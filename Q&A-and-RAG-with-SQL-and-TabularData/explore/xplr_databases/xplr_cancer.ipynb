{
 "cells": [
  {
   "cell_type": "code",
   "execution_count": 1,
   "metadata": {},
   "outputs": [],
   "source": [
    "import pandas as pd\n",
    "from pyprojroot import here"
   ]
  },
  {
   "cell_type": "code",
   "execution_count": 3,
   "metadata": {},
   "outputs": [],
   "source": [
    "df = pd.read_csv(here(\"data/csv_xlsx/cancer.csv\"))"
   ]
  },
  {
   "cell_type": "code",
   "execution_count": 4,
   "metadata": {},
   "outputs": [
    {
     "name": "stdout",
     "output_type": "stream",
     "text": [
      "cancer shape: (101, 10) \n",
      "\n",
      "cancer columns: Index(['Id', 'clump_thickness', 'uniformity_of_cell_size',\n",
      "       'uniformity_of_cell_shape', 'marginal_adhesion',\n",
      "       'single_epithelial_cell_size', 'bare_nuclei', 'bland_chromatin',\n",
      "       'normal_nucleoli', 'mitosis'],\n",
      "      dtype='object') \n",
      "\n",
      "cancer overview:                Id  clump_thickness  uniformity_of_cell_size  \\\n",
      "count  101.000000       101.000000               101.000000   \n",
      "mean    51.000000         4.059406                 2.326733   \n",
      "std     29.300171         1.973939                 2.627200   \n",
      "min      1.000000         1.000000                 1.000000   \n",
      "25%     26.000000         3.000000                 1.000000   \n",
      "50%     51.000000         4.000000                 1.000000   \n",
      "75%     76.000000         5.000000                 2.000000   \n",
      "max    101.000000        10.000000                10.000000   \n",
      "\n",
      "       uniformity_of_cell_shape  marginal_adhesion  \\\n",
      "count                101.000000         101.000000   \n",
      "mean                   2.287129           2.405941   \n",
      "std                    2.566463           2.888523   \n",
      "min                    1.000000           1.000000   \n",
      "25%                    1.000000           1.000000   \n",
      "50%                    1.000000           1.000000   \n",
      "75%                    2.000000           2.000000   \n",
      "max                   10.000000          10.000000   \n",
      "\n",
      "       single_epithelial_cell_size  bare_nuclei  bland_chromatin  \\\n",
      "count                   101.000000   101.000000       101.000000   \n",
      "mean                      2.366337     2.524752         2.702970   \n",
      "std                       1.390847     3.074391         2.300194   \n",
      "min                       1.000000     1.000000         1.000000   \n",
      "25%                       2.000000     1.000000         1.000000   \n",
      "50%                       2.000000     1.000000         2.000000   \n",
      "75%                       2.000000     1.000000         3.000000   \n",
      "max                      10.000000    10.000000        10.000000   \n",
      "\n",
      "       normal_nucleoli     mitosis  \n",
      "count       101.000000  101.000000  \n",
      "mean          2.029703    1.237624  \n",
      "std           2.563027    1.150204  \n",
      "min           1.000000    1.000000  \n",
      "25%           1.000000    1.000000  \n",
      "50%           1.000000    1.000000  \n",
      "75%           1.000000    1.000000  \n",
      "max          10.000000   10.000000  \n"
     ]
    }
   ],
   "source": [
    "print(\"cancer shape:\", df.shape, \"\\n\")\n",
    "print(\"cancer columns:\", df.columns, \"\\n\")\n",
    "print(\"cancer overview:\", df.describe())"
   ]
  },
  {
   "cell_type": "markdown",
   "metadata": {},
   "source": [
    "what is the average single epithelial cell size in cancer data?"
   ]
  },
  {
   "cell_type": "code",
   "execution_count": 5,
   "metadata": {},
   "outputs": [
    {
     "data": {
      "text/plain": [
       "2.366336633663366"
      ]
     },
     "execution_count": 5,
     "metadata": {},
     "output_type": "execute_result"
    }
   ],
   "source": [
    "df[\"single_epithelial_cell_size\"].mean()"
   ]
  }
 ],
 "metadata": {
  "kernelspec": {
   "display_name": "sql-rag-gpt",
   "language": "python",
   "name": "python3"
  },
  "language_info": {
   "codemirror_mode": {
    "name": "ipython",
    "version": 3
   },
   "file_extension": ".py",
   "mimetype": "text/x-python",
   "name": "python",
   "nbconvert_exporter": "python",
   "pygments_lexer": "ipython3",
   "version": "3.10.12"
  }
 },
 "nbformat": 4,
 "nbformat_minor": 2
}

{
 "cells": [
  {
   "cell_type": "code",
   "execution_count": 1,
   "metadata": {},
   "outputs": [],
   "source": [
    "import sqlite3\n",
    "import pandas as pd\n",
    "from pyprojroot import here"
   ]
  },
  {
   "cell_type": "markdown",
   "metadata": {},
   "source": [
    "**Generate DB's Report**"
   ]
  },
  {
   "cell_type": "code",
   "execution_count": 2,
   "metadata": {},
   "outputs": [],
   "source": [
    "# Connect to the SQLite database\n",
    "conn = sqlite3.connect(here('data/travel2.backup.sqlite'))\n",
    "# Get a list of tables in the database\n",
    "tables = pd.read_sql_query(\"SELECT name FROM sqlite_master WHERE type='table';\", conn)"
   ]
  },
  {
   "cell_type": "code",
   "execution_count": null,
   "metadata": {},
   "outputs": [],
   "source": [
    "# Create a report string\n",
    "report = \"### Database Report\\n\\n\"\n",
    "\n",
    "# Introduction\n",
    "report += \"This report provides an overview of the database, including its structure, key metrics, and insights derived from the data.\\n\\n\"\n",
    "\n",
    "# Iterate over each table to extract information\n",
    "for table_name in tables['name']:\n",
    "    report += f\"#### Table: {table_name}\\n\\n\"\n",
    "    \n",
    "    # Get table schema\n",
    "    schema = pd.read_sql_query(f\"PRAGMA table_info({table_name});\", conn)\n",
    "    report += \"Columns:\\n\\n\"\n",
    "    for idx, row in schema.iterrows():\n",
    "        report += f\"- **{row['name']}** ({row['type']})\\n\"\n",
    "    \n",
    "    # Get row count\n",
    "    row_count = pd.read_sql_query(f\"SELECT COUNT(*) as count FROM {table_name};\", conn)['count'][0]\n",
    "    report += f\"\\nRow Count: {row_count}\\n\\n\"\n",
    "    \n",
    "    # Estimate table size (approximate)\n",
    "    # SQLite doesn't have a direct way to get table size, so we'll estimate it\n",
    "    total_bytes = pd.read_sql_query(f\"PRAGMA page_count;\", conn)['page_count'][0] * pd.read_sql_query(f\"PRAGMA page_size;\", conn)['page_size'][0]\n",
    "    report += f\"Estimated Table Size: {total_bytes / 1024:.2f} KB\\n\\n\"\n",
    "    \n",
    "    # Get sample data\n",
    "    sample_data = pd.read_sql_query(f\"SELECT * FROM {table_name} LIMIT 5;\", conn)\n",
    "    report += \"Sample Data:\\n\\n\"\n",
    "    report += sample_data.to_markdown() + \"\\n\\n\"\n",
    "    \n",
    "    # Summary statistics\n",
    "    if 'INTEGER' in schema['type'].values or 'REAL' in schema['type'].values:\n",
    "        summary = pd.read_sql_query(f\"SELECT * FROM {table_name};\", conn).describe()\n",
    "        report += \"Summary Statistics:\\n\\n\"\n",
    "        report += summary.to_markdown() + \"\\n\\n\"\n",
    "    \n",
    "    report += \"\\n\"\n",
    "\n",
    "# Closing the connection\n",
    "conn.close()\n",
    "\n",
    "# Save the report to a markdown file\n",
    "with open(\"database_report.md\", \"w\") as file:\n",
    "    file.write(report)\n",
    "\n",
    "print(\"Report generated and saved as 'database_report.md'.\")"
   ]
  }
 ],
 "metadata": {
  "kernelspec": {
   "display_name": "airline-env",
   "language": "python",
   "name": "python3"
  },
  "language_info": {
   "codemirror_mode": {
    "name": "ipython",
    "version": 3
   },
   "file_extension": ".py",
   "mimetype": "text/x-python",
   "name": "python",
   "nbconvert_exporter": "python",
   "pygments_lexer": "ipython3",
   "version": "3.11.10"
  }
 },
 "nbformat": 4,
 "nbformat_minor": 2
}

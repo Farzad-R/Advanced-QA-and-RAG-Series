{
 "cells": [
  {
   "cell_type": "code",
   "execution_count": 53,
   "metadata": {},
   "outputs": [
    {
     "data": {
      "text/plain": [
       "True"
      ]
     },
     "execution_count": 53,
     "metadata": {},
     "output_type": "execute_result"
    }
   ],
   "source": [
    "from langchain_chroma import Chroma\n",
    "import os\n",
    "from pyprojroot import here\n",
    "from langchain_openai import OpenAIEmbeddings\n",
    "from openai import OpenAI\n",
    "from dotenv import load_dotenv\n",
    "from pprint import pprint\n",
    "load_dotenv()"
   ]
  },
  {
   "cell_type": "markdown",
   "metadata": {},
   "source": [
    "**Load environment variables and configs**"
   ]
  },
  {
   "cell_type": "code",
   "execution_count": 54,
   "metadata": {},
   "outputs": [],
   "source": [
    "os.environ['OPENAI_API_KEY'] = os.getenv(\"OPEN_AI_API_KEY\")\n",
    "\n",
    "EMBEDDING_MODEL = \"text-embedding-3-small\"\n",
    "VECTORDB_DIR = \"data/airline_policy_vectordb\"\n",
    "K=2"
   ]
  },
  {
   "cell_type": "markdown",
   "metadata": {},
   "source": [
    "**Load the vectorDB**"
   ]
  },
  {
   "cell_type": "code",
   "execution_count": 55,
   "metadata": {},
   "outputs": [
    {
     "name": "stdout",
     "output_type": "stream",
     "text": [
      "Number of vectors in vectordb: 22 \n",
      "\n",
      "\n"
     ]
    }
   ],
   "source": [
    "vectordb = Chroma(\n",
    "    collection_name=\"rag-chroma\",\n",
    "    persist_directory=str(here(VECTORDB_DIR)),\n",
    "    embedding_function=OpenAIEmbeddings(model=EMBEDDING_MODEL)\n",
    ")\n",
    "print(\"Number of vectors in vectordb:\",\n",
    "      vectordb._collection.count(), \"\\n\\n\")"
   ]
  },
  {
   "cell_type": "markdown",
   "metadata": {},
   "source": [
    "**Sample Query**"
   ]
  },
  {
   "cell_type": "code",
   "execution_count": 56,
   "metadata": {},
   "outputs": [],
   "source": [
    "message = \"What is the cancelation rule for a flight ticket at swiss airline policy?\""
   ]
  },
  {
   "cell_type": "markdown",
   "metadata": {},
   "source": [
    "**Perform the vector Search**"
   ]
  },
  {
   "cell_type": "code",
   "execution_count": 57,
   "metadata": {},
   "outputs": [],
   "source": [
    "docs = vectordb.similarity_search(message, k=K)"
   ]
  },
  {
   "cell_type": "code",
   "execution_count": 58,
   "metadata": {},
   "outputs": [
    {
     "data": {
      "text/plain": [
       "[Document(metadata={'page': 10, 'source': 'd:\\\\Github\\\\Advanced-QA-and-RAG-Series\\\\RAG-with-unstructured-data-and-SQLAgent\\\\data\\\\unstructured_docs\\\\swiss_faq.pdf'}, page_content=\"cancel your Swiss Airlines flight within 24 hours, you can do so easily online. Just remember to check the terms and\\nconditions of your ticket to make sure you're eligible for a refund.\\nSwiss Air Cancellation Fees The cancellation fees for Swiss Air flights may vary depending on the type of ticket you have\\npurchased. The airline of fers three dif ferent types of tickets, which are:\\nFlex T icket - This ticket of fers the most flexibility and allows passengers to make changes or cancel their flight without\\nincurring any additional fees. Standard T icket - This ticket of fers some flexibility but charges a fee for changes and\\ncancellations. The fee for cancelling a standard ticket can range from 100 to 250 CHF , depending on the route and time\\nof cancellation. Economy T icket - This ticket of fers the least flexibility and charges a fee for any changes or cancellations.\\nThe fee for cancelling an economy ticket can range from 150 to 350 CHF , depending on the route and time of\\ncancellation. It is important to note that the fees listed above are subject to change and may vary depending on the\\nspecific ticket you have purchased. Additionally , if you have purchased any add-ons or upgrades, such as extra baggage\\nor seat selection, the fees associated with cancelling those may also apply .\\nSwiss Air Refund Policy If you cancel your Swiss Air flight, you may be eligible for a refund depending on the type of\\nticket you have purchased and the time of cancellation. Here are the details:\\nFlex T icket - If you have purchased a Flex T icket, you can cancel your flight without incurring any fees and receive a full\\nrefund. Standard T icket - If you have purchased a Standard T icket and cancel your flight within 24 hours of booking, you\\ncan receive a full refund. If you cancel your flight after 24 hours, you may be charged a cancellation fee and receive a\\npartial refund. Economy T icket - If you have purchased an Economy T icket and cancel your flight within 24 hours of\\nbooking, you can receive a full refund. If you cancel your flight after 24 hours, you may be charged a cancellation fee and\"),\n",
       " Document(metadata={'page': 8, 'source': 'd:\\\\Github\\\\Advanced-QA-and-RAG-Series\\\\RAG-with-unstructured-data-and-SQLAgent\\\\data\\\\unstructured_docs\\\\swiss_faq.pdf'}, page_content=\"How to Cancel a Swiss Air Flight: 877-\\n5O7-7341 Step-by-Step Guide\\nSwiss Air is a premium airline based in Switzerland that of fers a range of domestic and international flights to\\npassengers. However , sometimes situations arise where passengers may need to cancel their flights. In such cases, it is\\nimportant to understand the Swiss Air Cancellation Policy to avoid any confusion or additional charges.\\nSwiss International Airlines Cancellation Policy In this article, we will provide you with everything you need to know about\\nthe Swiss Air Cancellation Policy , including how to cancel a Swiss Air flight, the fees associated with cancelling a flight,\\nand the refund policy .\\nIf you have booked a flight with Swiss Airlines but need to cancel it, it's important to understand their cancellation policy\\nto avoid any unnecessary fees or charges. Swiss Airlines of fers dif ferent fare types, each with their own specific\\ncancellation terms and conditions. The most flexible fare types such as Flex and Business Flex allow you to cancel your\\nflight up to 24 hours before departure without any penalty . For other fare types, cancellation fees may apply . If you cancel\\nyour Swiss Airlines flight outside of the 24-hour window , cancellation fees will be charged depending on your fare type\\nand the time of cancellation. For example, if you cancel a non-flexible economy class ticket, a cancellation fee will be\\ncharged. The closer you cancel to the departure date, the higher the cancellation fee. In some cases, Swiss Airlines may\\nallow you to make changes to your flight instead of cancelling it outright. However , these changes may also come with\\nfees or penalties depending on your fare type and the type of change requested. If Swiss Airlines cancels your flight, you\\nmay be entitled to a full refund or rebooking on another flight. However , if the cancellation is due to extraordinary\\ncircumstances such as bad weather or political unrest, Swiss Airlines may not be obligated to of fer any compensation. In\\nsummary , Swiss Airlines' cancellation policy varies depending on your fare type and the time of cancellation. T o avoid any\\nunnecessary fees or charges, it's important to familiarise yourself with the terms and conditions of your ticket and to\\ncontact Swiss Airlines as soon as possible if you need to make changes or cancel your flight.\")]"
      ]
     },
     "execution_count": 58,
     "metadata": {},
     "output_type": "execute_result"
    }
   ],
   "source": [
    "docs"
   ]
  },
  {
   "cell_type": "markdown",
   "metadata": {},
   "source": [
    "**Prepare the prompt for the GPT model**"
   ]
  },
  {
   "cell_type": "code",
   "execution_count": 59,
   "metadata": {},
   "outputs": [],
   "source": [
    "question = \"# User new question:\\n\" + message\n",
    "retrieved_content = \"\"\n",
    "for doc in docs:\n",
    "    retrieved_content += f\"{doc.page_content}\\n\\n\"\n",
    "prompt = f\"# Content:\\n{retrieved_content}\\n\\n{question}\""
   ]
  },
  {
   "cell_type": "markdown",
   "metadata": {},
   "source": [
    "Prepared prompt"
   ]
  },
  {
   "cell_type": "code",
   "execution_count": 60,
   "metadata": {},
   "outputs": [
    {
     "name": "stdout",
     "output_type": "stream",
     "text": [
      "('# Content:\\n'\n",
      " 'cancel your Swiss Airlines flight within 24 hours, you can do so easily '\n",
      " 'online. Just remember to check the terms and\\n'\n",
      " \"conditions of your ticket to make sure you're eligible for a refund.\\n\"\n",
      " 'Swiss Air Cancellation Fees The cancellation fees for Swiss Air flights may '\n",
      " 'vary depending on the type of ticket you have\\n'\n",
      " 'purchased. The airline of fers three dif ferent types of tickets, which '\n",
      " 'are:\\n'\n",
      " 'Flex T icket - This ticket of fers the most flexibility and allows '\n",
      " 'passengers to make changes or cancel their flight without\\n'\n",
      " 'incurring any additional fees. Standard T icket - This ticket of fers some '\n",
      " 'flexibility but charges a fee for changes and\\n'\n",
      " 'cancellations. The fee for cancelling a standard ticket can range from 100 '\n",
      " 'to 250 CHF , depending on the route and time\\n'\n",
      " 'of cancellation. Economy T icket - This ticket of fers the least flexibility '\n",
      " 'and charges a fee for any changes or cancellations.\\n'\n",
      " 'The fee for cancelling an economy ticket can range from 150 to 350 CHF , '\n",
      " 'depending on the route and time of\\n'\n",
      " 'cancellation. It is important to note that the fees listed above are subject '\n",
      " 'to change and may vary depending on the\\n'\n",
      " 'specific ticket you have purchased. Additionally , if you have purchased any '\n",
      " 'add-ons or upgrades, such as extra baggage\\n'\n",
      " 'or seat selection, the fees associated with cancelling those may also apply '\n",
      " '.\\n'\n",
      " 'Swiss Air Refund Policy If you cancel your Swiss Air flight, you may be '\n",
      " 'eligible for a refund depending on the type of\\n'\n",
      " 'ticket you have purchased and the time of cancellation. Here are the '\n",
      " 'details:\\n'\n",
      " 'Flex T icket - If you have purchased a Flex T icket, you can cancel your '\n",
      " 'flight without incurring any fees and receive a full\\n'\n",
      " 'refund. Standard T icket - If you have purchased a Standard T icket and '\n",
      " 'cancel your flight within 24 hours of booking, you\\n'\n",
      " 'can receive a full refund. If you cancel your flight after 24 hours, you may '\n",
      " 'be charged a cancellation fee and receive a\\n'\n",
      " 'partial refund. Economy T icket - If you have purchased an Economy T icket '\n",
      " 'and cancel your flight within 24 hours of\\n'\n",
      " 'booking, you can receive a full refund. If you cancel your flight after 24 '\n",
      " 'hours, you may be charged a cancellation fee and\\n'\n",
      " '\\n'\n",
      " 'How to Cancel a Swiss Air Flight: 877-\\n'\n",
      " '5O7-7341 Step-by-Step Guide\\n'\n",
      " 'Swiss Air is a premium airline based in Switzerland that of fers a range of '\n",
      " 'domestic and international flights to\\n'\n",
      " 'passengers. However , sometimes situations arise where passengers may need '\n",
      " 'to cancel their flights. In such cases, it is\\n'\n",
      " 'important to understand the Swiss Air Cancellation Policy to avoid any '\n",
      " 'confusion or additional charges.\\n'\n",
      " 'Swiss International Airlines Cancellation Policy In this article, we will '\n",
      " 'provide you with everything you need to know about\\n'\n",
      " 'the Swiss Air Cancellation Policy , including how to cancel a Swiss Air '\n",
      " 'flight, the fees associated with cancelling a flight,\\n'\n",
      " 'and the refund policy .\\n'\n",
      " \"If you have booked a flight with Swiss Airlines but need to cancel it, it's \"\n",
      " 'important to understand their cancellation policy\\n'\n",
      " 'to avoid any unnecessary fees or charges. Swiss Airlines of fers dif ferent '\n",
      " 'fare types, each with their own specific\\n'\n",
      " 'cancellation terms and conditions. The most flexible fare types such as Flex '\n",
      " 'and Business Flex allow you to cancel your\\n'\n",
      " 'flight up to 24 hours before departure without any penalty . For other fare '\n",
      " 'types, cancellation fees may apply . If you cancel\\n'\n",
      " 'your Swiss Airlines flight outside of the 24-hour window , cancellation fees '\n",
      " 'will be charged depending on your fare type\\n'\n",
      " 'and the time of cancellation. For example, if you cancel a non-flexible '\n",
      " 'economy class ticket, a cancellation fee will be\\n'\n",
      " 'charged. The closer you cancel to the departure date, the higher the '\n",
      " 'cancellation fee. In some cases, Swiss Airlines may\\n'\n",
      " 'allow you to make changes to your flight instead of cancelling it outright. '\n",
      " 'However , these changes may also come with\\n'\n",
      " 'fees or penalties depending on your fare type and the type of change '\n",
      " 'requested. If Swiss Airlines cancels your flight, you\\n'\n",
      " 'may be entitled to a full refund or rebooking on another flight. However , '\n",
      " 'if the cancellation is due to extraordinary\\n'\n",
      " 'circumstances such as bad weather or political unrest, Swiss Airlines may '\n",
      " 'not be obligated to of fer any compensation. In\\n'\n",
      " \"summary , Swiss Airlines' cancellation policy varies depending on your fare \"\n",
      " 'type and the time of cancellation. T o avoid any\\n'\n",
      " \"unnecessary fees or charges, it's important to familiarise yourself with the \"\n",
      " 'terms and conditions of your ticket and to\\n'\n",
      " 'contact Swiss Airlines as soon as possible if you need to make changes or '\n",
      " 'cancel your flight.\\n'\n",
      " '\\n'\n",
      " '\\n'\n",
      " '\\n'\n",
      " '# User new question:\\n'\n",
      " 'What is the cancelation rule for a flight ticket at swiss airline policy?')\n"
     ]
    }
   ],
   "source": [
    "pprint(prompt)"
   ]
  },
  {
   "cell_type": "markdown",
   "metadata": {},
   "source": [
    "**Pass the prompt to the GPT model and get the response**"
   ]
  },
  {
   "cell_type": "code",
   "execution_count": 61,
   "metadata": {},
   "outputs": [],
   "source": [
    "client = OpenAI()\n",
    "response = client.chat.completions.create(\n",
    "    model=\"gpt-4o-mini\",\n",
    "    messages=[\n",
    "        {\"role\": \"system\", \"content\": \"You will receive a user's query and possible content where the answer might be. If the answer is found, provide it, if not, state that the answer does not exist.\"},\n",
    "        {\"role\": \"user\", \"content\": prompt}\n",
    "    ]\n",
    ")"
   ]
  },
  {
   "cell_type": "markdown",
   "metadata": {},
   "source": [
    "Printing the response"
   ]
  },
  {
   "cell_type": "code",
   "execution_count": 62,
   "metadata": {},
   "outputs": [
    {
     "name": "stdout",
     "output_type": "stream",
     "text": [
      "('Swiss Airlines allows passengers to cancel their flights based on the type '\n",
      " 'of ticket purchased. Here are the cancellation rules:\\n'\n",
      " '\\n'\n",
      " '1. **Flex Ticket**: You can cancel your flight without incurring any fees '\n",
      " 'and receive a full refund.\\n'\n",
      " '\\n'\n",
      " '2. **Standard Ticket**: \\n'\n",
      " '   - If you cancel within 24 hours of booking, you can receive a full '\n",
      " 'refund.\\n'\n",
      " '   - If you cancel after 24 hours, you may be charged a cancellation fee '\n",
      " '(ranging from 100 to 250 CHF) and receive a partial refund.\\n'\n",
      " '\\n'\n",
      " '3. **Economy Ticket**: \\n'\n",
      " '   - If you cancel within 24 hours of booking, you can receive a full '\n",
      " 'refund.\\n'\n",
      " '   - If you cancel after 24 hours, you may be charged a cancellation fee '\n",
      " '(ranging from 150 to 350 CHF) and receive a partial refund.\\n'\n",
      " '\\n'\n",
      " \"It's important to check the terms and conditions of your specific ticket, as \"\n",
      " 'fees and refund eligibility may vary. Additionally, if you cancel your '\n",
      " 'flight outside of the 24-hour window, cancellation fees apply.')\n"
     ]
    }
   ],
   "source": [
    "pprint(response.choices[0].message.content)"
   ]
  },
  {
   "cell_type": "markdown",
   "metadata": {},
   "source": [
    "**RAG Tool design using LangChain**"
   ]
  },
  {
   "cell_type": "code",
   "execution_count": 63,
   "metadata": {},
   "outputs": [],
   "source": [
    "from langchain_core.tools import tool\n",
    "\n",
    "@tool\n",
    "def lookup_swiss_airline_policy(query: str)->str:\n",
    "    \"\"\"Search within the Swiss Airline's company policies to check whether certain options are permitted. Input should be a search query.\"\"\"\n",
    "    vectordb = Chroma(\n",
    "    collection_name=\"rag-chroma\",\n",
    "    persist_directory=str(here(VECTORDB_DIR)),\n",
    "    embedding_function=OpenAIEmbeddings(model=EMBEDDING_MODEL)\n",
    "    )\n",
    "    docs = vectordb.similarity_search(query, k=K)\n",
    "    return \"\\n\\n\".join([doc.page_content for doc in docs])"
   ]
  },
  {
   "cell_type": "code",
   "execution_count": 64,
   "metadata": {},
   "outputs": [
    {
     "name": "stdout",
     "output_type": "stream",
     "text": [
      "lookup_swiss_airline_policy\n",
      "{'query': {'title': 'Query', 'type': 'string'}}\n",
      "Search within the Swiss Airline's company policies to check whether certain options are permitted. Input should be a search query.\n"
     ]
    }
   ],
   "source": [
    "print(lookup_swiss_airline_policy.name)\n",
    "print(lookup_swiss_airline_policy.args)\n",
    "print(lookup_swiss_airline_policy.description)"
   ]
  },
  {
   "cell_type": "code",
   "execution_count": 67,
   "metadata": {},
   "outputs": [
    {
     "name": "stdout",
     "output_type": "stream",
     "text": [
      "('cancel your Swiss Airlines flight within 24 hours, you can do so easily '\n",
      " 'online. Just remember to check the terms and\\n'\n",
      " \"conditions of your ticket to make sure you're eligible for a refund.\\n\"\n",
      " 'Swiss Air Cancellation Fees The cancellation fees for Swiss Air flights may '\n",
      " 'vary depending on the type of ticket you have\\n'\n",
      " 'purchased. The airline of fers three dif ferent types of tickets, which '\n",
      " 'are:\\n'\n",
      " 'Flex T icket - This ticket of fers the most flexibility and allows '\n",
      " 'passengers to make changes or cancel their flight without\\n'\n",
      " 'incurring any additional fees. Standard T icket - This ticket of fers some '\n",
      " 'flexibility but charges a fee for changes and\\n'\n",
      " 'cancellations. The fee for cancelling a standard ticket can range from 100 '\n",
      " 'to 250 CHF , depending on the route and time\\n'\n",
      " 'of cancellation. Economy T icket - This ticket of fers the least flexibility '\n",
      " 'and charges a fee for any changes or cancellations.\\n'\n",
      " 'The fee for cancelling an economy ticket can range from 150 to 350 CHF , '\n",
      " 'depending on the route and time of\\n'\n",
      " 'cancellation. It is important to note that the fees listed above are subject '\n",
      " 'to change and may vary depending on the\\n'\n",
      " 'specific ticket you have purchased. Additionally , if you have purchased any '\n",
      " 'add-ons or upgrades, such as extra baggage\\n'\n",
      " 'or seat selection, the fees associated with cancelling those may also apply '\n",
      " '.\\n'\n",
      " 'Swiss Air Refund Policy If you cancel your Swiss Air flight, you may be '\n",
      " 'eligible for a refund depending on the type of\\n'\n",
      " 'ticket you have purchased and the time of cancellation. Here are the '\n",
      " 'details:\\n'\n",
      " 'Flex T icket - If you have purchased a Flex T icket, you can cancel your '\n",
      " 'flight without incurring any fees and receive a full\\n'\n",
      " 'refund. Standard T icket - If you have purchased a Standard T icket and '\n",
      " 'cancel your flight within 24 hours of booking, you\\n'\n",
      " 'can receive a full refund. If you cancel your flight after 24 hours, you may '\n",
      " 'be charged a cancellation fee and receive a\\n'\n",
      " 'partial refund. Economy T icket - If you have purchased an Economy T icket '\n",
      " 'and cancel your flight within 24 hours of\\n'\n",
      " 'booking, you can receive a full refund. If you cancel your flight after 24 '\n",
      " 'hours, you may be charged a cancellation fee and\\n'\n",
      " '\\n'\n",
      " 'for a refund or may only be able to receive a partial refund. If you booked '\n",
      " 'your flight through a third-party website or\\n'\n",
      " 'travel agent, you may need to contact them directly to cancel your flight. '\n",
      " 'Always check the terms and conditions of your\\n'\n",
      " 'ticket to make sure you understand the cancellation policy and any '\n",
      " \"associated fees or penalties. If you're cancelling your\\n\"\n",
      " 'flight due to unforeseen circumstances such as a medical emergency or a '\n",
      " 'natural disaster , Swiss Air may of fer you\\n'\n",
      " 'special exemptions or accommodations. What is Swiss Airlines 24 Hour '\n",
      " 'Cancellation Policy? Swiss Airlines has a 24')\n"
     ]
    }
   ],
   "source": [
    "pprint(lookup_swiss_airline_policy.invoke(\"can I cancel my ticket?\"))"
   ]
  }
 ],
 "metadata": {
  "kernelspec": {
   "display_name": "rag-sqlagent",
   "language": "python",
   "name": "python3"
  },
  "language_info": {
   "codemirror_mode": {
    "name": "ipython",
    "version": 3
   },
   "file_extension": ".py",
   "mimetype": "text/x-python",
   "name": "python",
   "nbconvert_exporter": "python",
   "pygments_lexer": "ipython3",
   "version": "3.11.9"
  }
 },
 "nbformat": 4,
 "nbformat_minor": 2
}

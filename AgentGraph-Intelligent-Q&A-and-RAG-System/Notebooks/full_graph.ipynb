{
 "cells": [
  {
   "cell_type": "markdown",
   "metadata": {},
   "source": [
    "**In this Notebook we will design the full graph using 3 tools: search_tool, RAG tool, and SQL-agent for travel database**"
   ]
  },
  {
   "cell_type": "code",
   "execution_count": 34,
   "metadata": {},
   "outputs": [
    {
     "data": {
      "text/plain": [
       "True"
      ]
     },
     "execution_count": 34,
     "metadata": {},
     "output_type": "execute_result"
    }
   ],
   "source": [
    "import os\n",
    "from dotenv import load_dotenv\n",
    "from pyprojroot import here\n",
    "load_dotenv()"
   ]
  },
  {
   "cell_type": "markdown",
   "metadata": {},
   "source": [
    "Set the environment variables"
   ]
  },
  {
   "cell_type": "code",
   "execution_count": 35,
   "metadata": {},
   "outputs": [],
   "source": [
    "os.environ['OPENAI_API_KEY'] = os.getenv(\"OPEN_AI_API_KEY\")\n",
    "os.environ['TAVILY_API_KEY'] = os.getenv(\"TAVILY_API_KEY\")"
   ]
  },
  {
   "cell_type": "markdown",
   "metadata": {},
   "source": [
    "### **1. initialize the Tools**"
   ]
  },
  {
   "cell_type": "markdown",
   "metadata": {},
   "source": [
    "**1.1 RAG tool design**"
   ]
  },
  {
   "cell_type": "code",
   "execution_count": 36,
   "metadata": {},
   "outputs": [
    {
     "name": "stdout",
     "output_type": "stream",
     "text": [
      "name='lookup_policy' description='Consult the company policies to check whether certain options are permitted.' args_schema=<class 'pydantic.v1.main.lookup_policySchema'> func=<function lookup_policy at 0x000001A4729327A0>\n"
     ]
    }
   ],
   "source": [
    "from langchain_chroma import Chroma\n",
    "from langchain_openai import OpenAIEmbeddings\n",
    "from langchain_core.tools import tool\n",
    "\n",
    "EMBEDDING_MODEL = \"text-embedding-3-small\"\n",
    "VECTORDB_DIR = \"data/airline_policy_vectordb\"\n",
    "K = 2\n",
    "\n",
    "@tool\n",
    "def lookup_policy(query: str)->str:\n",
    "    \"\"\"Consult the company policies to check whether certain options are permitted.\"\"\"\n",
    "    vectordb = Chroma(\n",
    "    collection_name=\"rag-chroma\",\n",
    "    persist_directory=str(here(VECTORDB_DIR)),\n",
    "    embedding_function=OpenAIEmbeddings(model=EMBEDDING_MODEL)\n",
    "    )\n",
    "    docs = vectordb.similarity_search(query, k=K)\n",
    "    return \"\\n\\n\".join([doc.page_content for doc in docs])\n",
    "\n",
    "print(lookup_policy)"
   ]
  },
  {
   "cell_type": "markdown",
   "metadata": {},
   "source": [
    "Test the RAG tool"
   ]
  },
  {
   "cell_type": "code",
   "execution_count": 37,
   "metadata": {},
   "outputs": [
    {
     "data": {
      "text/plain": [
       "\"cancel your Swiss Airlines flight within 24 hours, you can do so easily online. Just remember to check the terms and\\nconditions of your ticket to make sure you're eligible for a refund.\\nSwiss Air Cancellation Fees The cancellation fees for Swiss Air flights may vary depending on the type of ticket you have\\npurchased. The airline of fers three dif ferent types of tickets, which are:\\nFlex T icket - This ticket of fers the most flexibility and allows passengers to make changes or cancel their flight without\\nincurring any additional fees. Standard T icket - This ticket of fers some flexibility but charges a fee for changes and\\ncancellations. The fee for cancelling a standard ticket can range from 100 to 250 CHF , depending on the route and time\\nof cancellation. Economy T icket - This ticket of fers the least flexibility and charges a fee for any changes or cancellations.\\nThe fee for cancelling an economy ticket can range from 150 to 350 CHF , depending on the route and time of\\ncancellation. It is important to note that the fees listed above are subject to change and may vary depending on the\\nspecific ticket you have purchased. Additionally , if you have purchased any add-ons or upgrades, such as extra baggage\\nor seat selection, the fees associated with cancelling those may also apply .\\nSwiss Air Refund Policy If you cancel your Swiss Air flight, you may be eligible for a refund depending on the type of\\nticket you have purchased and the time of cancellation. Here are the details:\\nFlex T icket - If you have purchased a Flex T icket, you can cancel your flight without incurring any fees and receive a full\\nrefund. Standard T icket - If you have purchased a Standard T icket and cancel your flight within 24 hours of booking, you\\ncan receive a full refund. If you cancel your flight after 24 hours, you may be charged a cancellation fee and receive a\\npartial refund. Economy T icket - If you have purchased an Economy T icket and cancel your flight within 24 hours of\\nbooking, you can receive a full refund. If you cancel your flight after 24 hours, you may be charged a cancellation fee and\\n\\nfor a refund or may only be able to receive a partial refund. If you booked your flight through a third-party website or\\ntravel agent, you may need to contact them directly to cancel your flight. Always check the terms and conditions of your\\nticket to make sure you understand the cancellation policy and any associated fees or penalties. If you're cancelling your\\nflight due to unforeseen circumstances such as a medical emergency or a natural disaster , Swiss Air may of fer you\\nspecial exemptions or accommodations. What is Swiss Airlines 24 Hour Cancellation Policy? Swiss Airlines has a 24\""
      ]
     },
     "execution_count": 37,
     "metadata": {},
     "output_type": "execute_result"
    }
   ],
   "source": [
    "lookup_policy.invoke(\"can I cancel my ticket?\")"
   ]
  },
  {
   "cell_type": "markdown",
   "metadata": {},
   "source": [
    "**1.2 Search tool design**"
   ]
  },
  {
   "cell_type": "code",
   "execution_count": 38,
   "metadata": {},
   "outputs": [],
   "source": [
    "from langchain_community.tools.tavily_search import TavilySearchResults\n",
    "\n",
    "search_tool = TavilySearchResults(max_results=2)"
   ]
  },
  {
   "cell_type": "markdown",
   "metadata": {},
   "source": [
    "Test the Search Tool"
   ]
  },
  {
   "cell_type": "code",
   "execution_count": 39,
   "metadata": {},
   "outputs": [
    {
     "data": {
      "text/plain": [
       "[{'url': 'https://medium.com/@cplog/introduction-to-langgraph-a-beginners-guide-14f9be027141',\n",
       "  'content': 'Nodes: Nodes are the building blocks of your LangGraph. Each node represents a function or a computation step. You define nodes to perform specific tasks, such as processing input, making ...'},\n",
       " {'url': 'https://www.datacamp.com/tutorial/langgraph-tutorial',\n",
       "  'content': \"In LangGraph, each node represents an LLM agent, and the edges are the communication channels between these agents. This structure allows for clear and manageable workflows, where each agent performs specific tasks and passes information to other agents as needed. State management. One of LangGraph's standout features is its automatic state ...\"}]"
      ]
     },
     "execution_count": 39,
     "metadata": {},
     "output_type": "execute_result"
    }
   ],
   "source": [
    "search_tool.invoke(\"What's a 'node' in LangGraph?\")"
   ]
  },
  {
   "cell_type": "markdown",
   "metadata": {},
   "source": [
    "**1.3 SQL agent tool design**"
   ]
  },
  {
   "cell_type": "code",
   "execution_count": 40,
   "metadata": {},
   "outputs": [],
   "source": [
    "from langchain_community.utilities import SQLDatabase\n",
    "from langchain.chains import create_sql_query_chain\n",
    "from langchain_community.tools.sql_database.tool import QuerySQLDataBaseTool\n",
    "from langchain_core.prompts import PromptTemplate\n",
    "from langchain_core.output_parsers import StrOutputParser\n",
    "from langchain_core.runnables import RunnablePassthrough\n",
    "from operator import itemgetter\n",
    "from langchain_openai import ChatOpenAI"
   ]
  },
  {
   "cell_type": "markdown",
   "metadata": {},
   "source": [
    "**SQL agent chain**"
   ]
  },
  {
   "cell_type": "code",
   "execution_count": 41,
   "metadata": {},
   "outputs": [],
   "source": [
    "sqldb_directory = here(\"data/travel.sqlite\")\n",
    "\n",
    "sql_llm = ChatOpenAI(model=\"gpt-3.5-turbo\", temperature=0)\n",
    "# llm = ChatOpenAI(model=\"gpt-4o-mini\")\n",
    "# llm = ChatOpenAI(model=\"gpt-4o\")\n",
    "system_role = \"\"\"Given the following user question, corresponding SQL query, and SQL result, answer the user question.\\n\n",
    "    Question: {question}\\n\n",
    "    SQL Query: {query}\\n\n",
    "    SQL Result: {result}\\n\n",
    "    Answer:\n",
    "    \"\"\"\n",
    "db = SQLDatabase.from_uri(\n",
    "    f\"sqlite:///{sqldb_directory}\")\n",
    "\n",
    "execute_query = QuerySQLDataBaseTool(db=db)\n",
    "write_query = create_sql_query_chain(\n",
    "    sql_llm, db)\n",
    "answer_prompt = PromptTemplate.from_template(\n",
    "    system_role)\n",
    "\n",
    "\n",
    "answer = answer_prompt | sql_llm | StrOutputParser()\n",
    "chain = (\n",
    "    RunnablePassthrough.assign(query=write_query).assign(\n",
    "        result=itemgetter(\"query\") | execute_query\n",
    "    )\n",
    "    | answer\n",
    ")\n",
    "# Test the chain\n",
    "# message = \"How many tables do I have in the database? and what are their names?\"\n",
    "# response = chain.invoke({\"question\": message})\n",
    "\n",
    "@tool\n",
    "def query_sqldb(query):\n",
    "    \"\"\"Query the Swiss Airline SQL Database and access all the company's information. Input should be a search query.\"\"\"\n",
    "    response = chain.invoke({\"question\": query})\n",
    "    return response"
   ]
  },
  {
   "cell_type": "code",
   "execution_count": 42,
   "metadata": {},
   "outputs": [
    {
     "name": "stdout",
     "output_type": "stream",
     "text": [
      "You have a total of 11 tables in the database. Their names are: aircrafts_data, airports_data, boarding_passes, bookings, flights, seats, ticket_flights, tickets, car_rentals, hotels, and trip_recommendations.\n"
     ]
    }
   ],
   "source": [
    "message = \"How many tables do I have in the database? and what are their names?\"\n",
    "response = query_sqldb.invoke(message)\n",
    "print(response)"
   ]
  },
  {
   "cell_type": "markdown",
   "metadata": {},
   "source": [
    "**Wrap up the tools into a list**"
   ]
  },
  {
   "cell_type": "code",
   "execution_count": 43,
   "metadata": {},
   "outputs": [],
   "source": [
    "tools = [search_tool, lookup_policy, query_sqldb]"
   ]
  },
  {
   "cell_type": "markdown",
   "metadata": {},
   "source": [
    "#### **Load the LLM for the primary agent and bind it with the tools**"
   ]
  },
  {
   "cell_type": "code",
   "execution_count": 44,
   "metadata": {},
   "outputs": [],
   "source": [
    "llm = ChatOpenAI(model=\"gpt-4o-mini\", temperature=0)\n",
    "# Tell the LLM which tools it can call\n",
    "llm_with_tools = llm.bind_tools(tools)"
   ]
  },
  {
   "cell_type": "markdown",
   "metadata": {},
   "source": [
    "### **2. Initialize the Graph State**\n",
    "\n",
    "Define our StateGraph's state as a typed dictionary containing an append-only list of messages. These messages form the chat history, which is all the state our chatbot needs."
   ]
  },
  {
   "cell_type": "code",
   "execution_count": 47,
   "metadata": {},
   "outputs": [],
   "source": [
    "from typing import Annotated\n",
    "from typing_extensions import TypedDict\n",
    "from langgraph.graph import StateGraph, START\n",
    "from langgraph.graph.message import add_messages\n",
    "\n",
    "\n",
    "class State(TypedDict):\n",
    "    messages: Annotated[list, add_messages]\n",
    "\n",
    "\n",
    "graph_builder = StateGraph(State)"
   ]
  },
  {
   "cell_type": "markdown",
   "metadata": {},
   "source": [
    "### **3. Define the Graph Nodes**"
   ]
  },
  {
   "cell_type": "markdown",
   "metadata": {},
   "source": [
    "**3.1 First node: chatbot**"
   ]
  },
  {
   "cell_type": "code",
   "execution_count": 48,
   "metadata": {},
   "outputs": [],
   "source": [
    "def chatbot(state: State):\n",
    "    return {\"messages\": [llm_with_tools.invoke(state[\"messages\"])]}\n",
    "\n",
    "\n",
    "graph_builder.add_node(\"chatbot\", chatbot)"
   ]
  },
  {
   "cell_type": "markdown",
   "metadata": {},
   "source": [
    "Next, we need to create a function that will run the tools when they are needed. To do this, we'll add the tools to a new node.\n",
    "\n",
    "In the example below, we'll build a BasicToolNode. This node will check the latest message and, if it contains a request to use a tool, it will run the appropriate tool. This works because many language models (like Anthropic, OpenAI, and Google Gemini) support tool usage."
   ]
  },
  {
   "cell_type": "markdown",
   "metadata": {},
   "source": [
    "**3.2 Second node: BasicToolNode that runs the appropriate tool based on the primary agent's output**"
   ]
  },
  {
   "cell_type": "code",
   "execution_count": 49,
   "metadata": {},
   "outputs": [],
   "source": [
    "import json\n",
    "from langchain_core.messages import ToolMessage\n",
    "\n",
    "\n",
    "class BasicToolNode:\n",
    "    \"\"\"A node that runs the tools requested in the last AIMessage.\"\"\"\n",
    "\n",
    "    def __init__(self, tools: list) -> None:\n",
    "        self.tools_by_name = {tool.name: tool for tool in tools}\n",
    "\n",
    "    def __call__(self, inputs: dict):\n",
    "        if messages := inputs.get(\"messages\", []):\n",
    "            message = messages[-1]\n",
    "        else:\n",
    "            raise ValueError(\"No message found in input\")\n",
    "        outputs = []\n",
    "        for tool_call in message.tool_calls:\n",
    "            tool_result = self.tools_by_name[tool_call[\"name\"]].invoke(\n",
    "                tool_call[\"args\"]\n",
    "            )\n",
    "            outputs.append(\n",
    "                ToolMessage(\n",
    "                    content=json.dumps(tool_result),\n",
    "                    name=tool_call[\"name\"],\n",
    "                    tool_call_id=tool_call[\"id\"],\n",
    "                )\n",
    "            )\n",
    "        return {\"messages\": outputs}\n",
    "\n",
    "\n",
    "tool_node = BasicToolNode(tools=[search_tool, lookup_policy, query_sqldb])\n",
    "graph_builder.add_node(\"tools\", tool_node)"
   ]
  },
  {
   "cell_type": "markdown",
   "metadata": {},
   "source": [
    "### **4. Define the entry point and graph edges**"
   ]
  },
  {
   "cell_type": "markdown",
   "metadata": {},
   "source": [
    "**Aproach 1**"
   ]
  },
  {
   "cell_type": "code",
   "execution_count": 14,
   "metadata": {},
   "outputs": [],
   "source": [
    "from typing import Literal\n",
    "\n",
    "\n",
    "def route_tools(\n",
    "    state: State,\n",
    ") -> Literal[\"tools\", \"__end__\"]:\n",
    "    \"\"\"\n",
    "    Use in the conditional_edge to route to the ToolNode if the last message\n",
    "    has tool calls. Otherwise, route to the end.\n",
    "    \"\"\"\n",
    "    if isinstance(state, list):\n",
    "        ai_message = state[-1]\n",
    "    elif messages := state.get(\"messages\", []):\n",
    "        ai_message = messages[-1]\n",
    "    else:\n",
    "        raise ValueError(f\"No messages found in input state to tool_edge: {state}\")\n",
    "    if hasattr(ai_message, \"tool_calls\") and len(ai_message.tool_calls) > 0:\n",
    "        return \"tools\"\n",
    "    return \"__end__\"\n",
    "\n",
    "\n",
    "# The `tools_condition` function returns \"tools\" if the chatbot asks to use a tool, and \"__end__\" if\n",
    "# it is fine directly responding. This conditional routing defines the main agent loop.\n",
    "graph_builder.add_conditional_edges(\n",
    "    \"chatbot\",\n",
    "    route_tools,\n",
    "    # The following dictionary lets you tell the graph to interpret the condition's outputs as a specific node\n",
    "    # It defaults to the identity function, but if you\n",
    "    # want to use a node named something else apart from \"tools\",\n",
    "    # You can update the value of the dictionary to something else\n",
    "    # e.g., \"tools\": \"my_tools\"\n",
    "    {\"tools\": \"tools\", \"__end__\": \"__end__\"},\n",
    ")\n",
    "# Any time a tool is called, we return to the chatbot to decide the next step\n",
    "graph_builder.add_edge(\"tools\", \"chatbot\")\n",
    "graph_builder.add_edge(START, \"chatbot\")"
   ]
  },
  {
   "cell_type": "markdown",
   "metadata": {},
   "source": [
    "**Approach 2**"
   ]
  },
  {
   "cell_type": "code",
   "execution_count": 50,
   "metadata": {},
   "outputs": [],
   "source": [
    "from langgraph.graph import END, MessagesState\n",
    "from typing import Literal\n",
    "\n",
    "# Define the function that determines whether to continue or not\n",
    "def should_continue(state: MessagesState) -> Literal[\"tools\", END]:\n",
    "    messages = state['messages']\n",
    "    last_message = messages[-1]\n",
    "    # If the LLM makes a tool call, then we route to the \"tools\" node\n",
    "    if last_message.tool_calls:\n",
    "        return \"tools\"\n",
    "    # Otherwise, we stop (reply to the user)\n",
    "    return END\n",
    "\n",
    "graph_builder.add_conditional_edges(\n",
    "    \"chatbot\",\n",
    "    should_continue,\n",
    "    [\"tools\", END],\n",
    ")\n",
    "# Any time a tool is called, we return to the chatbot to decide the next step\n",
    "graph_builder.add_edge(\"tools\", \"chatbot\")\n",
    "graph_builder.add_edge(START, \"chatbot\")"
   ]
  },
  {
   "cell_type": "markdown",
   "metadata": {},
   "source": [
    "### **5. Compile the graph**\n",
    "\n",
    "- In this step, we can add a memory to our graph as well."
   ]
  },
  {
   "cell_type": "code",
   "execution_count": 51,
   "metadata": {},
   "outputs": [],
   "source": [
    "from langgraph.checkpoint.memory import MemorySaver\n",
    "\n",
    "memory = MemorySaver()\n",
    "graph = graph_builder.compile(checkpointer=memory)"
   ]
  },
  {
   "cell_type": "markdown",
   "metadata": {},
   "source": [
    "**5.1 Plot the compiled graph**"
   ]
  },
  {
   "cell_type": "code",
   "execution_count": 52,
   "metadata": {},
   "outputs": [
    {
     "data": {
      "image/jpeg": "[encoded data removed]",
      "text/plain": [
       "<IPython.core.display.Image object>"
      ]
     },
     "metadata": {},
     "output_type": "display_data"
    }
   ],
   "source": [
    "from IPython.display import Image, display\n",
    "\n",
    "try:\n",
    "    display(Image(graph.get_graph().draw_mermaid_png()))\n",
    "except Exception:\n",
    "    # This requires some extra dependencies and is optional\n",
    "    pass"
   ]
  },
  {
   "cell_type": "markdown",
   "metadata": {},
   "source": [
    "**Save the graph image**"
   ]
  },
  {
   "cell_type": "code",
   "execution_count": 16,
   "metadata": {},
   "outputs": [],
   "source": [
    "save = False\n",
    "\n",
    "if save:\n",
    "    from PIL import Image as PILImage\n",
    "    import io\n",
    "    # Assuming graph.get_graph().draw_mermaid_png() returns PNG binary data\n",
    "    try:\n",
    "        # Generate the PNG image from the graph\n",
    "        png_data = graph.get_graph().draw_mermaid_png()\n",
    "        \n",
    "        # Convert the binary data into an image\n",
    "        img = PILImage.open(io.BytesIO(png_data))\n",
    "        \n",
    "        # Save the image locally with 300 DPI\n",
    "        img.save('output_image.png', 'PNG', dpi=(300, 300))\n",
    "        \n",
    "        print(\"Image saved successfully with 300 DPI.\")\n",
    "    except Exception as e:\n",
    "        print(f\"Error: {e}\")"
   ]
  },
  {
   "cell_type": "markdown",
   "metadata": {},
   "source": [
    "### **6. Execute the graph**"
   ]
  },
  {
   "cell_type": "code",
   "execution_count": 53,
   "metadata": {},
   "outputs": [],
   "source": [
    "config = {\"configurable\": {\"thread_id\": \"1\"}}"
   ]
  },
  {
   "cell_type": "markdown",
   "metadata": {},
   "source": [
    "**First query**"
   ]
  },
  {
   "cell_type": "markdown",
   "metadata": {},
   "source": [
    "Approach 1: Print all the steps the the system goes through ti get the final output"
   ]
  },
  {
   "cell_type": "code",
   "execution_count": 54,
   "metadata": {},
   "outputs": [
    {
     "name": "stdout",
     "output_type": "stream",
     "text": [
      "================================\u001b[1m Human Message \u001b[0m=================================\n",
      "\n",
      "Hi there! My name is Farzad.\n",
      "==================================\u001b[1m Ai Message \u001b[0m==================================\n",
      "\n",
      "Hello Farzad! How can I assist you today?\n"
     ]
    }
   ],
   "source": [
    "user_input = \"Hi there! My name is Farzad.\"\n",
    "\n",
    "# The config is the **second positional argument** to stream() or invoke()!\n",
    "events = graph.stream(\n",
    "    {\"messages\": [(\"user\", user_input)]}, config, stream_mode=\"values\"\n",
    ")\n",
    "for event in events:\n",
    "    event[\"messages\"][-1].pretty_print()"
   ]
  },
  {
   "cell_type": "markdown",
   "metadata": {},
   "source": [
    "Approach 2: Just print the final output"
   ]
  },
  {
   "cell_type": "code",
   "execution_count": 55,
   "metadata": {},
   "outputs": [
    {
     "data": {
      "text/plain": [
       "'Hello again, Farzad! How can I help you today?'"
      ]
     },
     "execution_count": 55,
     "metadata": {},
     "output_type": "execute_result"
    }
   ],
   "source": [
    "from langchain_core.messages import HumanMessage\n",
    "user_input = \"Hi there! My name is Farzad.\"\n",
    "\n",
    "# Use the Runnable\n",
    "final_state = graph.invoke(\n",
    "    {\"messages\": [HumanMessage(content=user_input)]},\n",
    "    config=config\n",
    ")\n",
    "final_state[\"messages\"][-1].content"
   ]
  },
  {
   "cell_type": "markdown",
   "metadata": {},
   "source": [
    "**Second query**"
   ]
  },
  {
   "cell_type": "code",
   "execution_count": 56,
   "metadata": {},
   "outputs": [
    {
     "name": "stdout",
     "output_type": "stream",
     "text": [
      "================================\u001b[1m Human Message \u001b[0m=================================\n",
      "\n",
      "Can I cancel my ticket 10 hours before the flight?\n",
      "==================================\u001b[1m Ai Message \u001b[0m==================================\n",
      "Tool Calls:\n",
      "  lookup_policy (call_PnEdkdZICkTDuytncfiYhJo2)\n",
      " Call ID: call_PnEdkdZICkTDuytncfiYhJo2\n",
      "  Args:\n",
      "    query: ticket cancellation policy\n",
      "=================================\u001b[1m Tool Message \u001b[0m=================================\n",
      "Name: lookup_policy\n",
      "\n",
      "\"for a refund or may only be able to receive a partial refund. If you booked your flight through a third-party website or\\ntravel agent, you may need to contact them directly to cancel your flight. Always check the terms and conditions of your\\nticket to make sure you understand the cancellation policy and any associated fees or penalties. If you're cancelling your\\nflight due to unforeseen circumstances such as a medical emergency or a natural disaster , Swiss Air may of fer you\\nspecial exemptions or accommodations. What is Swiss Airlines 24 Hour Cancellation Policy? Swiss Airlines has a 24\\n\\nhour cancellation policy that allows passengers to cancel their flights within 24 hours of booking at +1-877-507-7341\\nwithout penalty . This policy applies to all fare types, including non-refundable tickets. If you cancel your Swiss Airlines\\nflight within 24 hours of booking, you'll receive a full refund of your ticket price.\\nHow to Cancel Swiss Airlines Flight within 24 Hours? If you need to cancel your Swiss Airlines flight within 24 hours of\\nbooking, you can do so easily online. Here are the steps to follow:\\nGo to Swiss Airlines' website and click on the \\\"Manage your bookings\\\" tab. Enter your booking reference number and last\\nname to access your booking. Select the flight you want to cancel and click on \\\"Cancel flight.\\\" Confirm your cancellation\\nand you'll receive a full refund of your ticket price. If you booked your Swiss Airlines flight through a travel agent, you'll\\nneed to contact them directly to cancel your flight within 24 hours.\\nImportant Things to Keep in Mind for Swiss Airlines 24 Hour Cancellation Here are some important things to keep in mind\\nwhen cancelling your Swiss Airlines flight within 24 hours:\\nSwiss Airlines' 24 hour cancellation policy only applies to flights booked directly through Swiss Airlines. If you booked\\nyour flight through a travel agent or third-party website, you'll need to check their cancellation policy . If you cancel your\\nSwiss Airlines flight after the 24 hour window , you may be subject to cancellation fees or penalties. If you have a non-\\nrefundable ticket and cancel your flight within 24 hours of booking, you'll receive a full refund of your ticket price.\\nHowever , if you cancel your flight after the 24 hour window , you may not be eligible for a refund. Swiss Airlines' 24 hour\\ncancellation policy allows passengers to cancel their flights within 24 hours of booking without penalty . If you need to\\ncancel your Swiss Airlines flight within 24 hours, you can do so easily online. Just remember to check the terms and\\nconditions of your ticket to make sure you're eligible for a refund.\\nSwiss Air Cancellation Fees The cancellation fees for Swiss Air flights may vary depending on the type of ticket you have\\npurchased. The airline of fers three dif ferent types of tickets, which are:\"\n",
      "==================================\u001b[1m Ai Message \u001b[0m==================================\n",
      "\n",
      "You can cancel your ticket with Swiss Airlines, but the ability to receive a refund or avoid penalties depends on the timing and the type of ticket you purchased. Here are some key points regarding ticket cancellation:\n",
      "\n",
      "1. **24-Hour Cancellation Policy**: If you booked your flight directly through Swiss Airlines, you can cancel your flight within 24 hours of booking without penalty and receive a full refund.\n",
      "\n",
      "2. **Cancellation 10 Hours Before Flight**: If you are looking to cancel your ticket 10 hours before the flight, you may be subject to cancellation fees or penalties, especially if you have a non-refundable ticket. The specific fees can vary based on the type of ticket you purchased.\n",
      "\n",
      "3. **Contacting Third Parties**: If you booked your flight through a third-party website or travel agent, you will need to contact them directly to cancel your flight.\n",
      "\n",
      "4. **Special Exemptions**: In cases of unforeseen circumstances (like medical emergencies), Swiss Airlines may offer special exemptions or accommodations.\n",
      "\n",
      "It's always best to check the terms and conditions of your specific ticket for detailed information on cancellation policies and any associated fees.\n"
     ]
    }
   ],
   "source": [
    "user_input = \"Can I cancel my ticket 10 hours before the flight?\"\n",
    "\n",
    "events = graph.stream(\n",
    "    {\"messages\": [(\"user\", user_input)]}, config, stream_mode=\"values\"\n",
    ")\n",
    "for event in events:\n",
    "    event[\"messages\"][-1].pretty_print()"
   ]
  },
  {
   "cell_type": "markdown",
   "metadata": {},
   "source": [
    "**Third query**"
   ]
  },
  {
   "cell_type": "code",
   "execution_count": 57,
   "metadata": {},
   "outputs": [
    {
     "name": "stdout",
     "output_type": "stream",
     "text": [
      "================================\u001b[1m Human Message \u001b[0m=================================\n",
      "\n",
      "Right now Harris vs. Trump Presidential Debate is being boradcasted. I want the youtube link to this debate\n",
      "==================================\u001b[1m Ai Message \u001b[0m==================================\n",
      "Tool Calls:\n",
      "  tavily_search_results_json (call_1jy65jCBXDpiaiDrn9n93HBC)\n",
      " Call ID: call_1jy65jCBXDpiaiDrn9n93HBC\n",
      "  Args:\n",
      "    query: Harris Trump Presidential Debate YouTube link\n",
      "=================================\u001b[1m Tool Message \u001b[0m=================================\n",
      "Name: tavily_search_results_json\n",
      "\n",
      "[{\"url\": \"https://www.pbs.org/newshour/politics/watch-live-harris-and-trump-debate-pbs-news-simulcast-of-abcs-2024-presidential-debate\", \"content\": \"WATCH: Harris and Trump debate \\u2014 PBS News simulcast of ABC\\u2019s 2024 Presidential Debate Vice President Kamala Harris and former President Donald Trump faced off Tuesday night for their first and possibly only debate before Election Day. The state of the race as they meet in Philadelphia is starkly different than it was just more than two months ago, when Trump debated President Joe Biden in a performance that accelerated calls for Biden to leave the race. WATCH: What to watch in the ABC Harris-Trump debate Watch PBS News\\u2019 special coverage here and the\\u00a0ABC Presidential Debate in the player above. This year\\u2019s presidential race is a genuine contest of ideas between Harris and Trump \\u2014 with clear differences on taxes, abortion, immigration, global alliances, climate change and democracy itself. LIVE FACT CHECK: Trump and Harris meet for presidential debate\"}, {\"url\": \"https://abcnews.go.com/Politics/watch-full-abc-news-presidential-debate/story?id=113470583\", \"content\": \"MORE: READ: Harris-Trump presidential debate transcript Democratic presidential nominee Vice President Kamala Harris shakes hands with former President Donald Trump, during a presidential debate ...\"}]\n",
      "==================================\u001b[1m Ai Message \u001b[0m==================================\n",
      "\n",
      "You can watch the Harris vs. Trump Presidential Debate through the following links:\n",
      "\n",
      "1. [PBS News Simulcast of the Debate](https://www.pbs.org/newshour/politics/watch-live-harris-and-trump-debate-pbs-news-simulcast-of-abcs-2024-presidential-debate)\n",
      "2. [ABC News Full Debate Coverage](https://abcnews.go.com/Politics/watch-full-abc-news-presidential-debate/story?id=113470583)\n",
      "\n",
      "Feel free to check them out!\n"
     ]
    }
   ],
   "source": [
    "user_input = \"Right now Harris vs. Trump Presidential Debate is being boradcasted. I want the youtube link to this debate\"\n",
    "\n",
    "events = graph.stream(\n",
    "    {\"messages\": [(\"user\", user_input)]}, config, stream_mode=\"values\"\n",
    ")\n",
    "for event in events:\n",
    "    event[\"messages\"][-1].pretty_print()"
   ]
  },
  {
   "cell_type": "code",
   "execution_count": 58,
   "metadata": {},
   "outputs": [
    {
     "data": {
      "text/plain": [
       "{'messages': [HumanMessage(content='Hi there! My name is Farzad.', id='5aa78bed-a259-4d29-91c0-0e00d4113895'),\n",
       "  AIMessage(content='Hello Farzad! How can I assist you today?', additional_kwargs={'refusal': None}, response_metadata={'token_usage': {'completion_tokens': 12, 'prompt_tokens': 149, 'total_tokens': 161, 'prompt_tokens_details': {'cached_tokens': 0}, 'completion_tokens_details': {'reasoning_tokens': 0}}, 'model_name': 'gpt-4o-mini-2024-07-18', 'system_fingerprint': 'fp_f85bea6784', 'finish_reason': 'stop', 'logprobs': None}, id='run-6a8c7f6f-0647-4569-a1ff-58747953ad59-0', usage_metadata={'input_tokens': 149, 'output_tokens': 12, 'total_tokens': 161}),\n",
       "  HumanMessage(content='Hi there! My name is Farzad.', id='45b30b4e-7aca-45f7-945d-48f4f3f738f0'),\n",
       "  AIMessage(content='Hello again, Farzad! How can I help you today?', additional_kwargs={'refusal': None}, response_metadata={'token_usage': {'completion_tokens': 14, 'prompt_tokens': 177, 'total_tokens': 191, 'prompt_tokens_details': {'cached_tokens': 0}, 'completion_tokens_details': {'reasoning_tokens': 0}}, 'model_name': 'gpt-4o-mini-2024-07-18', 'system_fingerprint': 'fp_f85bea6784', 'finish_reason': 'stop', 'logprobs': None}, id='run-632913bf-ab5b-4ddb-8806-aa609e10086c-0', usage_metadata={'input_tokens': 177, 'output_tokens': 14, 'total_tokens': 191}),\n",
       "  HumanMessage(content='Can I cancel my ticket 10 hours before the flight?', id='5a4cd448-96ea-4d6a-b865-ba9aa7661136'),\n",
       "  AIMessage(content='', additional_kwargs={'tool_calls': [{'id': 'call_PnEdkdZICkTDuytncfiYhJo2', 'function': {'arguments': '{\"query\":\"ticket cancellation policy\"}', 'name': 'lookup_policy'}, 'type': 'function'}], 'refusal': None}, response_metadata={'token_usage': {'completion_tokens': 16, 'prompt_tokens': 210, 'total_tokens': 226, 'prompt_tokens_details': {'cached_tokens': 0}, 'completion_tokens_details': {'reasoning_tokens': 0}}, 'model_name': 'gpt-4o-mini-2024-07-18', 'system_fingerprint': 'fp_f85bea6784', 'finish_reason': 'tool_calls', 'logprobs': None}, id='run-dc4bc2d4-19a5-4ee6-b163-a7fc7e533489-0', tool_calls=[{'name': 'lookup_policy', 'args': {'query': 'ticket cancellation policy'}, 'id': 'call_PnEdkdZICkTDuytncfiYhJo2', 'type': 'tool_call'}], usage_metadata={'input_tokens': 210, 'output_tokens': 16, 'total_tokens': 226}),\n",
       "  ToolMessage(content='\"for a refund or may only be able to receive a partial refund. If you booked your flight through a third-party website or\\\\ntravel agent, you may need to contact them directly to cancel your flight. Always check the terms and conditions of your\\\\nticket to make sure you understand the cancellation policy and any associated fees or penalties. If you\\'re cancelling your\\\\nflight due to unforeseen circumstances such as a medical emergency or a natural disaster , Swiss Air may of fer you\\\\nspecial exemptions or accommodations. What is Swiss Airlines 24 Hour Cancellation Policy? Swiss Airlines has a 24\\\\n\\\\nhour cancellation policy that allows passengers to cancel their flights within 24 hours of booking at +1-877-507-7341\\\\nwithout penalty . This policy applies to all fare types, including non-refundable tickets. If you cancel your Swiss Airlines\\\\nflight within 24 hours of booking, you\\'ll receive a full refund of your ticket price.\\\\nHow to Cancel Swiss Airlines Flight within 24 Hours? If you need to cancel your Swiss Airlines flight within 24 hours of\\\\nbooking, you can do so easily online. Here are the steps to follow:\\\\nGo to Swiss Airlines\\' website and click on the \\\\\"Manage your bookings\\\\\" tab. Enter your booking reference number and last\\\\nname to access your booking. Select the flight you want to cancel and click on \\\\\"Cancel flight.\\\\\" Confirm your cancellation\\\\nand you\\'ll receive a full refund of your ticket price. If you booked your Swiss Airlines flight through a travel agent, you\\'ll\\\\nneed to contact them directly to cancel your flight within 24 hours.\\\\nImportant Things to Keep in Mind for Swiss Airlines 24 Hour Cancellation Here are some important things to keep in mind\\\\nwhen cancelling your Swiss Airlines flight within 24 hours:\\\\nSwiss Airlines\\' 24 hour cancellation policy only applies to flights booked directly through Swiss Airlines. If you booked\\\\nyour flight through a travel agent or third-party website, you\\'ll need to check their cancellation policy . If you cancel your\\\\nSwiss Airlines flight after the 24 hour window , you may be subject to cancellation fees or penalties. If you have a non-\\\\nrefundable ticket and cancel your flight within 24 hours of booking, you\\'ll receive a full refund of your ticket price.\\\\nHowever , if you cancel your flight after the 24 hour window , you may not be eligible for a refund. Swiss Airlines\\' 24 hour\\\\ncancellation policy allows passengers to cancel their flights within 24 hours of booking without penalty . If you need to\\\\ncancel your Swiss Airlines flight within 24 hours, you can do so easily online. Just remember to check the terms and\\\\nconditions of your ticket to make sure you\\'re eligible for a refund.\\\\nSwiss Air Cancellation Fees The cancellation fees for Swiss Air flights may vary depending on the type of ticket you have\\\\npurchased. The airline of fers three dif ferent types of tickets, which are:\"', name='lookup_policy', id='306a3eb2-1d47-48cb-baa3-1a721072a1df', tool_call_id='call_PnEdkdZICkTDuytncfiYhJo2'),\n",
       "  AIMessage(content=\"You can cancel your ticket with Swiss Airlines, but the ability to receive a refund or avoid penalties depends on the timing and the type of ticket you purchased. Here are some key points regarding ticket cancellation:\\n\\n1. **24-Hour Cancellation Policy**: If you booked your flight directly through Swiss Airlines, you can cancel your flight within 24 hours of booking without penalty and receive a full refund.\\n\\n2. **Cancellation 10 Hours Before Flight**: If you are looking to cancel your ticket 10 hours before the flight, you may be subject to cancellation fees or penalties, especially if you have a non-refundable ticket. The specific fees can vary based on the type of ticket you purchased.\\n\\n3. **Contacting Third Parties**: If you booked your flight through a third-party website or travel agent, you will need to contact them directly to cancel your flight.\\n\\n4. **Special Exemptions**: In cases of unforeseen circumstances (like medical emergencies), Swiss Airlines may offer special exemptions or accommodations.\\n\\nIt's always best to check the terms and conditions of your specific ticket for detailed information on cancellation policies and any associated fees.\", additional_kwargs={'refusal': None}, response_metadata={'token_usage': {'completion_tokens': 226, 'prompt_tokens': 819, 'total_tokens': 1045, 'prompt_tokens_details': {'cached_tokens': 0}, 'completion_tokens_details': {'reasoning_tokens': 0}}, 'model_name': 'gpt-4o-mini-2024-07-18', 'system_fingerprint': 'fp_f85bea6784', 'finish_reason': 'stop', 'logprobs': None}, id='run-c83ed911-1952-4ece-b16f-41c9d515b6f3-0', usage_metadata={'input_tokens': 819, 'output_tokens': 226, 'total_tokens': 1045}),\n",
       "  HumanMessage(content='Right now Harris vs. Trump Presidential Debate is being boradcasted. I want the youtube link to this debate', id='4706cd31-61e5-4a67-bb17-c4eb3e17b0e1'),\n",
       "  AIMessage(content='', additional_kwargs={'tool_calls': [{'id': 'call_1jy65jCBXDpiaiDrn9n93HBC', 'function': {'arguments': '{\"query\":\"Harris Trump Presidential Debate YouTube link\"}', 'name': 'tavily_search_results_json'}, 'type': 'function'}], 'refusal': None}, response_metadata={'token_usage': {'completion_tokens': 25, 'prompt_tokens': 1075, 'total_tokens': 1100, 'prompt_tokens_details': {'cached_tokens': 0}, 'completion_tokens_details': {'reasoning_tokens': 0}}, 'model_name': 'gpt-4o-mini-2024-07-18', 'system_fingerprint': 'fp_f85bea6784', 'finish_reason': 'tool_calls', 'logprobs': None}, id='run-c25bda9e-c897-4e44-b7c6-94c9f32933e9-0', tool_calls=[{'name': 'tavily_search_results_json', 'args': {'query': 'Harris Trump Presidential Debate YouTube link'}, 'id': 'call_1jy65jCBXDpiaiDrn9n93HBC', 'type': 'tool_call'}], usage_metadata={'input_tokens': 1075, 'output_tokens': 25, 'total_tokens': 1100}),\n",
       "  ToolMessage(content='[{\"url\": \"https://www.pbs.org/newshour/politics/watch-live-harris-and-trump-debate-pbs-news-simulcast-of-abcs-2024-presidential-debate\", \"content\": \"WATCH: Harris and Trump debate \\\\u2014 PBS News simulcast of ABC\\\\u2019s 2024 Presidential Debate Vice President Kamala Harris and former President Donald Trump faced off Tuesday night for their first and possibly only debate before Election Day. The state of the race as they meet in Philadelphia is starkly different than it was just more than two months ago, when Trump debated President Joe Biden in a performance that accelerated calls for Biden to leave the race. WATCH: What to watch in the ABC Harris-Trump debate Watch PBS News\\\\u2019 special coverage here and the\\\\u00a0ABC Presidential Debate in the player above. This year\\\\u2019s presidential race is a genuine contest of ideas between Harris and Trump \\\\u2014 with clear differences on taxes, abortion, immigration, global alliances, climate change and democracy itself. LIVE FACT CHECK: Trump and Harris meet for presidential debate\"}, {\"url\": \"https://abcnews.go.com/Politics/watch-full-abc-news-presidential-debate/story?id=113470583\", \"content\": \"MORE: READ: Harris-Trump presidential debate transcript Democratic presidential nominee Vice President Kamala Harris shakes hands with former President Donald Trump, during a presidential debate ...\"}]', name='tavily_search_results_json', id='45c00f98-cf0e-4e5b-b19a-c3da9ec63434', tool_call_id='call_1jy65jCBXDpiaiDrn9n93HBC'),\n",
       "  AIMessage(content='You can watch the Harris vs. Trump Presidential Debate through the following links:\\n\\n1. [PBS News Simulcast of the Debate](https://www.pbs.org/newshour/politics/watch-live-harris-and-trump-debate-pbs-news-simulcast-of-abcs-2024-presidential-debate)\\n2. [ABC News Full Debate Coverage](https://abcnews.go.com/Politics/watch-full-abc-news-presidential-debate/story?id=113470583)\\n\\nFeel free to check them out!', additional_kwargs={'refusal': None}, response_metadata={'token_usage': {'completion_tokens': 106, 'prompt_tokens': 1405, 'total_tokens': 1511, 'prompt_tokens_details': {'cached_tokens': 1024}, 'completion_tokens_details': {'reasoning_tokens': 0}}, 'model_name': 'gpt-4o-mini-2024-07-18', 'system_fingerprint': 'fp_f85bea6784', 'finish_reason': 'stop', 'logprobs': None}, id='run-c011a865-0f6e-47f3-aae6-f139aeba11ca-0', usage_metadata={'input_tokens': 1405, 'output_tokens': 106, 'total_tokens': 1511})]}"
      ]
     },
     "execution_count": 58,
     "metadata": {},
     "output_type": "execute_result"
    }
   ],
   "source": [
    "event"
   ]
  }
 ],
 "metadata": {
  "kernelspec": {
   "display_name": "rag-sqlagent",
   "language": "python",
   "name": "python3"
  },
  "language_info": {
   "codemirror_mode": {
    "name": "ipython",
    "version": 3
   },
   "file_extension": ".py",
   "mimetype": "text/x-python",
   "name": "python",
   "nbconvert_exporter": "python",
   "pygments_lexer": "ipython3",
   "version": "3.11.9"
  }
 },
 "nbformat": 4,
 "nbformat_minor": 2
}

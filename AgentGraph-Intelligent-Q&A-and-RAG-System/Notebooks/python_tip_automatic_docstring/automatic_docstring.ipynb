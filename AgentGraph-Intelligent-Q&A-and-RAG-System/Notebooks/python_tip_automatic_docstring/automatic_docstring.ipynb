{
 "cells": [
  {
   "cell_type": "code",
   "execution_count": 2,
   "metadata": {},
   "outputs": [],
   "source": [
    "from langchain_core.tools import tool"
   ]
  },
  {
   "cell_type": "code",
   "execution_count": 3,
   "metadata": {},
   "outputs": [
    {
     "name": "stdout",
     "output_type": "stream",
     "text": [
      "Old docstring:\n",
      "Tool that can operate on any number of inputs.\n",
      "\n",
      "Updated docstring:\n",
      "This function now queries a different database and returns updated results.\n"
     ]
    }
   ],
   "source": [
    "class YourClass:\n",
    "    @tool\n",
    "    def query_sqldb(self, query):\n",
    "        \"\"\"Query the Swiss Airline SQL Database and access all the company's information. Input should be a search query.\"\"\"\n",
    "        response = self.chain.invoke({\"question\": query})\n",
    "        return response\n",
    "\n",
    "    def update_description(self, new_description):\n",
    "        \"\"\"Updates the description (docstring) of the query_sqldb function.\"\"\"\n",
    "        self.query_sqldb.__doc__ = new_description\n",
    "\n",
    "# Usage examples\n",
    "your_object = YourClass()\n",
    "print(\"Old docstring:\")\n",
    "print(your_object.query_sqldb.__doc__)\n",
    "\n",
    "# Update the description\n",
    "new_description = \"This function now queries a different database and returns updated results.\"\n",
    "your_object.update_description(new_description)\n",
    "\n",
    "print(\"\\nUpdated docstring:\")\n",
    "print(your_object.query_sqldb.__doc__)"
   ]
  }
 ],
 "metadata": {
  "kernelspec": {
   "display_name": "rag-sqlagent",
   "language": "python",
   "name": "python3"
  },
  "language_info": {
   "codemirror_mode": {
    "name": "ipython",
    "version": 3
   },
   "file_extension": ".py",
   "mimetype": "text/x-python",
   "name": "python",
   "nbconvert_exporter": "python",
   "pygments_lexer": "ipython3",
   "version": "3.11.9"
  }
 },
 "nbformat": 4,
 "nbformat_minor": 2
}

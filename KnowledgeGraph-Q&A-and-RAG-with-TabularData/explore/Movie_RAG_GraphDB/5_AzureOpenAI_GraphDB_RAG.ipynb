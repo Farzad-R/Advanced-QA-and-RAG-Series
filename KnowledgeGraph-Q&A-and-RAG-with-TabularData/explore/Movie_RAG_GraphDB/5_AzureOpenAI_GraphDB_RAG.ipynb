{
 "cells": [
  {
   "cell_type": "code",
   "execution_count": 3,
   "metadata": {},
   "outputs": [],
   "source": [
    "from langchain_community.graphs import Neo4jGraph\n",
    "import os\n",
    "from dotenv import load_dotenv\n",
    "load_dotenv()\n",
    "# Warning control\n",
    "import warnings\n",
    "warnings.filterwarnings(\"ignore\")"
   ]
  },
  {
   "cell_type": "code",
   "execution_count": 4,
   "metadata": {},
   "outputs": [],
   "source": [
    "azure_openai_api_key = os.environ[\"OPENAI_API_KEY\"]\n",
    "azure_openai_endpoint = os.environ[\"OPENAI_API_BASE\"]"
   ]
  },
  {
   "cell_type": "code",
   "execution_count": 5,
   "metadata": {},
   "outputs": [],
   "source": [
    "from openai import AzureOpenAI\n",
    "\n",
    "client = AzureOpenAI(\n",
    "  api_key = azure_openai_api_key,  \n",
    "  api_version = \"2023-07-01-preview\",\n",
    "  azure_endpoint = azure_openai_endpoint\n",
    ")\n",
    "def embed_text(text):\n",
    "    response = client.embeddings.create(\n",
    "    input = text,\n",
    "    model= \"text-embedding-ada-002\"\n",
    "    )\n",
    "    return response.data[0].embedding"
   ]
  },
  {
   "cell_type": "code",
   "execution_count": 6,
   "metadata": {},
   "outputs": [],
   "source": [
    "def embed_text(text):\n",
    "    response = client.embeddings.create(\n",
    "    input = text,\n",
    "    model= \"text-embedding-ada-002\"\n",
    "    )\n",
    "    return response.data[0].embedding"
   ]
  },
  {
   "cell_type": "code",
   "execution_count": 7,
   "metadata": {},
   "outputs": [],
   "source": [
    "NEO4J_URI = \"bolt://localhost:7687\"\n",
    "NEO4J_USERNAME = \"neo4j\"\n",
    "NEO4J_PASSWORD = \"12345678\"\n",
    "NEO4J_DATABASE = 'neo4j'"
   ]
  },
  {
   "cell_type": "code",
   "execution_count": 8,
   "metadata": {},
   "outputs": [],
   "source": [
    "graph = Neo4jGraph(url=NEO4J_URI, username=NEO4J_USERNAME, password=NEO4J_PASSWORD, database=NEO4J_DATABASE)"
   ]
  },
  {
   "cell_type": "code",
   "execution_count": 9,
   "metadata": {},
   "outputs": [],
   "source": [
    "question = \"What movies are about love?\""
   ]
  },
  {
   "cell_type": "code",
   "execution_count": 10,
   "metadata": {},
   "outputs": [
    {
     "data": {
      "text/plain": [
       "[-0.004169964697211981,\n",
       " -0.030407307669520378,\n",
       " 0.0007921198266558349,\n",
       " -0.02763153612613678,\n",
       " -0.007961414754390717,\n",
       " 0.0019603881519287825,\n",
       " -0.00657983822748065,\n",
       " -0.02148698829114437,\n",
       " -0.00205501657910645,\n",
       " -0.007980341091752052]"
      ]
     },
     "execution_count": 10,
     "metadata": {},
     "output_type": "execute_result"
    }
   ],
   "source": [
    "question_embedding = embed_text(question)\n",
    "question_embedding[:10]"
   ]
  },
  {
   "cell_type": "markdown",
   "metadata": {},
   "source": [
    "**Perform similarity search**"
   ]
  },
  {
   "cell_type": "code",
   "execution_count": 11,
   "metadata": {},
   "outputs": [
    {
     "data": {
      "text/plain": [
       "[{'movie.title': 'Heat',\n",
       "  'movie.tagline': 'A Los Angeles crime saga',\n",
       "  'score': 0.8907766342163086},\n",
       " {'movie.title': 'Grumpier Old Men',\n",
       "  'movie.tagline': 'Still Yelling. Still Fighting. Still Ready for Love.',\n",
       "  'score': 0.887347400188446},\n",
       " {'movie.title': 'Tom and Huck',\n",
       "  'movie.tagline': 'The Original Bad Boys.',\n",
       "  'score': 0.8832508325576782},\n",
       " {'movie.title': 'Sense and Sensibility',\n",
       "  'movie.tagline': 'Lose your heart and come to your senses.',\n",
       "  'score': 0.8757961988449097},\n",
       " {'movie.title': 'Balto',\n",
       "  'movie.tagline': 'Part Dog. Part Wolf. All Hero.',\n",
       "  'score': 0.8753572702407837}]"
      ]
     },
     "execution_count": 11,
     "metadata": {},
     "output_type": "execute_result"
    }
   ],
   "source": [
    "graph.query(\"\"\"\n",
    "    with $question_embedding as question_embedding\n",
    "    CALL db.index.vector.queryNodes(\n",
    "        'movie_tagline_embeddings', \n",
    "        $top_k, \n",
    "        question_embedding\n",
    "        ) YIELD node AS movie, score\n",
    "    RETURN movie.title, movie.tagline, score\n",
    "    \"\"\",\n",
    "    params={\n",
    "        \"question_embedding\": question_embedding,\n",
    "        \"top_k\": 5\n",
    "    })"
   ]
  },
  {
   "cell_type": "code",
   "execution_count": 12,
   "metadata": {},
   "outputs": [
    {
     "data": {
      "text/plain": [
       "[0.010714428499341011,\n",
       " -0.036056939512491226,\n",
       " -0.01811829023063183,\n",
       " -0.019606761634349823,\n",
       " -0.0062810927629470825,\n",
       " 0.023982355371117592,\n",
       " -0.019516941159963608,\n",
       " -0.03374724090099335,\n",
       " 0.008744769729673862,\n",
       " -0.00961090624332428]"
      ]
     },
     "execution_count": 12,
     "metadata": {},
     "output_type": "execute_result"
    }
   ],
   "source": [
    "question = \"What movies are about adventure?\"\n",
    "question_embedding = embed_text(question)\n",
    "question_embedding[:10]"
   ]
  },
  {
   "cell_type": "code",
   "execution_count": 13,
   "metadata": {},
   "outputs": [
    {
     "data": {
      "text/plain": [
       "[{'movie.title': 'Toy Story',\n",
       "  'movie.tagline': 'The adventure takes off!',\n",
       "  'score': 0.9301033020019531},\n",
       " {'movie.title': 'Cutthroat Island',\n",
       "  'movie.tagline': 'The Course Has Been Set. There Is No Turning Back. Prepare Your Weapons. Summon Your Courage. Discover the Adventure of a Lifetime!',\n",
       "  'score': 0.8929015398025513},\n",
       " {'movie.title': 'Tom and Huck',\n",
       "  'movie.tagline': 'The Original Bad Boys.',\n",
       "  'score': 0.8922421932220459},\n",
       " {'movie.title': 'Jumanji',\n",
       "  'movie.tagline': 'Roll the dice and unleash the excitement!',\n",
       "  'score': 0.8902815580368042},\n",
       " {'movie.title': 'Heat',\n",
       "  'movie.tagline': 'A Los Angeles crime saga',\n",
       "  'score': 0.8866440653800964}]"
      ]
     },
     "execution_count": 13,
     "metadata": {},
     "output_type": "execute_result"
    }
   ],
   "source": [
    "graph.query(\"\"\"\n",
    "    with $question_embedding as question_embedding\n",
    "    CALL db.index.vector.queryNodes(\n",
    "        'movie_tagline_embeddings', \n",
    "        $top_k, \n",
    "        question_embedding\n",
    "        ) YIELD node AS movie, score\n",
    "    RETURN movie.title, movie.tagline, score\n",
    "    \"\"\",\n",
    "    params={\n",
    "        \"question_embedding\": question_embedding,\n",
    "        \"top_k\": 5\n",
    "    })"
   ]
  }
 ],
 "metadata": {
  "kernelspec": {
   "display_name": "playaround",
   "language": "python",
   "name": "python3"
  },
  "language_info": {
   "codemirror_mode": {
    "name": "ipython",
    "version": 3
   },
   "file_extension": ".py",
   "mimetype": "text/x-python",
   "name": "python",
   "nbconvert_exporter": "python",
   "pygments_lexer": "ipython3",
   "version": "3.11.8"
  }
 },
 "nbformat": 4,
 "nbformat_minor": 2
}

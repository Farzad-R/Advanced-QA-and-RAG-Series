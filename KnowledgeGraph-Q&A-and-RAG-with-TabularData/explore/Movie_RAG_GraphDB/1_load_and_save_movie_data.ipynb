{
 "cells": [
  {
   "cell_type": "code",
   "execution_count": 1,
   "metadata": {},
   "outputs": [],
   "source": [
    "import pandas as pd\n",
    "from pyprojroot import here"
   ]
  },
  {
   "cell_type": "markdown",
   "metadata": {},
   "source": [
    "**Load the movie data (only the first 20 rows for simplicity)**"
   ]
  },
  {
   "cell_type": "code",
   "execution_count": 2,
   "metadata": {},
   "outputs": [
    {
     "data": {
      "text/html": [
       "<div>\n",
       "<style scoped>\n",
       "    .dataframe tbody tr th:only-of-type {\n",
       "        vertical-align: middle;\n",
       "    }\n",
       "\n",
       "    .dataframe tbody tr th {\n",
       "        vertical-align: top;\n",
       "    }\n",
       "\n",
       "    .dataframe thead th {\n",
       "        text-align: right;\n",
       "    }\n",
       "</style>\n",
       "<table border=\"1\" class=\"dataframe\">\n",
       "  <thead>\n",
       "    <tr style=\"text-align: right;\">\n",
       "      <th></th>\n",
       "      <th>movieId</th>\n",
       "      <th>released</th>\n",
       "      <th>title</th>\n",
       "      <th>actors</th>\n",
       "      <th>director</th>\n",
       "      <th>genres</th>\n",
       "      <th>imdbRating</th>\n",
       "    </tr>\n",
       "  </thead>\n",
       "  <tbody>\n",
       "    <tr>\n",
       "      <th>0</th>\n",
       "      <td>1</td>\n",
       "      <td>1995-11-22</td>\n",
       "      <td>Toy Story</td>\n",
       "      <td>Jim Varney|Tim Allen|Tom Hanks|Don Rickles</td>\n",
       "      <td>John Lasseter</td>\n",
       "      <td>Adventure|Animation|Children|Comedy|Fantasy</td>\n",
       "      <td>8.3</td>\n",
       "    </tr>\n",
       "    <tr>\n",
       "      <th>1</th>\n",
       "      <td>2</td>\n",
       "      <td>1995-12-15</td>\n",
       "      <td>Jumanji</td>\n",
       "      <td>Robin Williams|Bradley Pierce|Kirsten Dunst|Jo...</td>\n",
       "      <td>Joe Johnston</td>\n",
       "      <td>Adventure|Children|Fantasy</td>\n",
       "      <td>6.9</td>\n",
       "    </tr>\n",
       "    <tr>\n",
       "      <th>2</th>\n",
       "      <td>3</td>\n",
       "      <td>1995-12-22</td>\n",
       "      <td>Grumpier Old Men</td>\n",
       "      <td>Walter Matthau|Ann-Margret|Jack Lemmon|Sophia ...</td>\n",
       "      <td>Howard Deutch</td>\n",
       "      <td>Comedy|Romance</td>\n",
       "      <td>6.6</td>\n",
       "    </tr>\n",
       "  </tbody>\n",
       "</table>\n",
       "</div>"
      ],
      "text/plain": [
       "   movieId    released             title  \\\n",
       "0        1  1995-11-22         Toy Story   \n",
       "1        2  1995-12-15           Jumanji   \n",
       "2        3  1995-12-22  Grumpier Old Men   \n",
       "\n",
       "                                              actors       director  \\\n",
       "0         Jim Varney|Tim Allen|Tom Hanks|Don Rickles  John Lasseter   \n",
       "1  Robin Williams|Bradley Pierce|Kirsten Dunst|Jo...   Joe Johnston   \n",
       "2  Walter Matthau|Ann-Margret|Jack Lemmon|Sophia ...  Howard Deutch   \n",
       "\n",
       "                                        genres  imdbRating  \n",
       "0  Adventure|Animation|Children|Comedy|Fantasy         8.3  \n",
       "1                   Adventure|Children|Fantasy         6.9  \n",
       "2                               Comedy|Romance         6.6  "
      ]
     },
     "metadata": {},
     "output_type": "display_data"
    },
    {
     "name": "stdout",
     "output_type": "stream",
     "text": [
      "(20, 7)\n",
      "Index(['movieId', 'released', 'title', 'actors', 'director', 'genres',\n",
      "       'imdbRating'],\n",
      "      dtype='object')\n"
     ]
    }
   ],
   "source": [
    "df = pd.read_csv(\"https://raw.githubusercontent.com/tomasonjo/blog-datasets/main/movies/movies_small.csv\", nrows=20)\n",
    "display(df.head(3))\n",
    "print(df.shape)\n",
    "print(df.columns)"
   ]
  },
  {
   "cell_type": "code",
   "execution_count": 3,
   "metadata": {},
   "outputs": [
    {
     "data": {
      "text/plain": [
       "array(['Toy Story', 'Jumanji', 'Grumpier Old Men', 'Waiting to Exhale',\n",
       "       'Father of the Bride Part II', 'Heat', 'Sabrina', 'Tom and Huck',\n",
       "       'Sudden Death', 'GoldenEye', 'American President, The',\n",
       "       'Dracula: Dead and Loving It', 'Balto', 'Nixon',\n",
       "       'Cutthroat Island', 'Casino', 'Sense and Sensibility',\n",
       "       'Four Rooms', 'Ace Ventura: When Nature Calls', 'Money Train'],\n",
       "      dtype=object)"
      ]
     },
     "execution_count": 3,
     "metadata": {},
     "output_type": "execute_result"
    }
   ],
   "source": [
    "df[\"title\"][:20].values"
   ]
  },
  {
   "cell_type": "markdown",
   "metadata": {},
   "source": [
    "**Add tagline to the dataframe**"
   ]
  },
  {
   "cell_type": "code",
   "execution_count": 4,
   "metadata": {},
   "outputs": [],
   "source": [
    "# Generate some taglines using chatgot:\n",
    "tagline = [\"The adventure takes off!\",\n",
    "\"Roll the dice and unleash the excitement!\",\n",
    "\"Still Yelling. Still Fighting. Still Ready for Love.\",\n",
    "\"Friends are the people who let you be yourself... and never let you forget it.\",\n",
    "\"Just When His World Is Back To Normal... He's In For The Surprise Of His Life!\",\n",
    "\"A Los Angeles crime saga\",\n",
    "\"You are cordially invited to the most surprising merger of the year.\",\n",
    "\"The Original Bad Boys.\",\n",
    "\"Terror goes into overtime.\",\n",
    "\"No limits. No fears. No substitutes.\",\n",
    "\"Why can't the most powerful man in the world have the one thing he wants most?\",\n",
    "\"Give blood...a whole new meaning.\",\n",
    "\"Part Dog. Part Wolf. All Hero.\",\n",
    "\"He had greatness within his grasp.\",\n",
    "\"The Course Has Been Set. There Is No Turning Back. Prepare Your Weapons. Summon Your Courage. Discover the Adventure of a Lifetime!\",\n",
    "\"No one stays at the top forever.\",\n",
    "\"Lose your heart and come to your senses.\",\n",
    "\"Twelve outrageous guests. Four scandalous requests. And one lone bellhop, in his first day on the job, who's in for the wildest New year's Eve of his life.\",\n",
    "\"New animals. New adventures. Same hair.\",\n",
    "\"Get on, or GET OUT THE WAY!\"]\n",
    "\n",
    "location = [\"United States\", \"United States\", \"United States\", \"United States\", \"United States\", \n",
    "           \"United States\", \"United States\", \"United States\", \"United States\", \"United Kingdom\", \n",
    "           \"United States\", \"United States\", \"United States\", \"United States\", \"Malta\", \n",
    "           \"United States\", \"United Kingdom\", \"United States\", \"United States\", \"United States\"]\n",
    "\n",
    "similar_movie = [\"Finding Nemo\", \"Jumanji: Welcome to the Jungle\", \"The Bucket List\", \"The Best Man Holiday\", \"Cheaper by the Dozen\", \n",
    "                 \"The Departed\", \"Notting Hill\", \"The Adventures of Huck Finn\", \"Die Hard\", \"Mission Impossible\", \n",
    "                 \"Dave\", \"Dead and Loving It: Young Frankenstein\", \"Spirit: Stallion of the Cimarron\", \"JFK\", \"Pirates of the Caribbean: The Curse of the Black Pearl\",\n",
    "                 \"Goodfellas\", \"Pride and Prejudice\", \"Pulp Fiction\", \"The Mask\", \"Speed\"\n",
    "                 ]"
   ]
  },
  {
   "cell_type": "code",
   "execution_count": 5,
   "metadata": {},
   "outputs": [],
   "source": [
    "df[\"similar_movie\"] = similar_movie\n",
    "df[\"tagline\"] = tagline\n",
    "df[\"location\"] = location"
   ]
  },
  {
   "cell_type": "code",
   "execution_count": 6,
   "metadata": {},
   "outputs": [
    {
     "data": {
      "text/html": [
       "<div>\n",
       "<style scoped>\n",
       "    .dataframe tbody tr th:only-of-type {\n",
       "        vertical-align: middle;\n",
       "    }\n",
       "\n",
       "    .dataframe tbody tr th {\n",
       "        vertical-align: top;\n",
       "    }\n",
       "\n",
       "    .dataframe thead th {\n",
       "        text-align: right;\n",
       "    }\n",
       "</style>\n",
       "<table border=\"1\" class=\"dataframe\">\n",
       "  <thead>\n",
       "    <tr style=\"text-align: right;\">\n",
       "      <th></th>\n",
       "      <th>movieId</th>\n",
       "      <th>released</th>\n",
       "      <th>title</th>\n",
       "      <th>actors</th>\n",
       "      <th>director</th>\n",
       "      <th>genres</th>\n",
       "      <th>imdbRating</th>\n",
       "      <th>similar_movie</th>\n",
       "      <th>tagline</th>\n",
       "      <th>location</th>\n",
       "    </tr>\n",
       "  </thead>\n",
       "  <tbody>\n",
       "    <tr>\n",
       "      <th>0</th>\n",
       "      <td>1</td>\n",
       "      <td>1995-11-22</td>\n",
       "      <td>Toy Story</td>\n",
       "      <td>Jim Varney|Tim Allen|Tom Hanks|Don Rickles</td>\n",
       "      <td>John Lasseter</td>\n",
       "      <td>Adventure|Animation|Children|Comedy|Fantasy</td>\n",
       "      <td>8.3</td>\n",
       "      <td>Finding Nemo</td>\n",
       "      <td>The adventure takes off!</td>\n",
       "      <td>United States</td>\n",
       "    </tr>\n",
       "    <tr>\n",
       "      <th>1</th>\n",
       "      <td>2</td>\n",
       "      <td>1995-12-15</td>\n",
       "      <td>Jumanji</td>\n",
       "      <td>Robin Williams|Bradley Pierce|Kirsten Dunst|Jo...</td>\n",
       "      <td>Joe Johnston</td>\n",
       "      <td>Adventure|Children|Fantasy</td>\n",
       "      <td>6.9</td>\n",
       "      <td>Jumanji: Welcome to the Jungle</td>\n",
       "      <td>Roll the dice and unleash the excitement!</td>\n",
       "      <td>United States</td>\n",
       "    </tr>\n",
       "    <tr>\n",
       "      <th>2</th>\n",
       "      <td>3</td>\n",
       "      <td>1995-12-22</td>\n",
       "      <td>Grumpier Old Men</td>\n",
       "      <td>Walter Matthau|Ann-Margret|Jack Lemmon|Sophia ...</td>\n",
       "      <td>Howard Deutch</td>\n",
       "      <td>Comedy|Romance</td>\n",
       "      <td>6.6</td>\n",
       "      <td>The Bucket List</td>\n",
       "      <td>Still Yelling. Still Fighting. Still Ready for...</td>\n",
       "      <td>United States</td>\n",
       "    </tr>\n",
       "  </tbody>\n",
       "</table>\n",
       "</div>"
      ],
      "text/plain": [
       "   movieId    released             title  \\\n",
       "0        1  1995-11-22         Toy Story   \n",
       "1        2  1995-12-15           Jumanji   \n",
       "2        3  1995-12-22  Grumpier Old Men   \n",
       "\n",
       "                                              actors       director  \\\n",
       "0         Jim Varney|Tim Allen|Tom Hanks|Don Rickles  John Lasseter   \n",
       "1  Robin Williams|Bradley Pierce|Kirsten Dunst|Jo...   Joe Johnston   \n",
       "2  Walter Matthau|Ann-Margret|Jack Lemmon|Sophia ...  Howard Deutch   \n",
       "\n",
       "                                        genres  imdbRating  \\\n",
       "0  Adventure|Animation|Children|Comedy|Fantasy         8.3   \n",
       "1                   Adventure|Children|Fantasy         6.9   \n",
       "2                               Comedy|Romance         6.6   \n",
       "\n",
       "                    similar_movie  \\\n",
       "0                    Finding Nemo   \n",
       "1  Jumanji: Welcome to the Jungle   \n",
       "2                 The Bucket List   \n",
       "\n",
       "                                             tagline       location  \n",
       "0                           The adventure takes off!  United States  \n",
       "1          Roll the dice and unleash the excitement!  United States  \n",
       "2  Still Yelling. Still Fighting. Still Ready for...  United States  "
      ]
     },
     "execution_count": 6,
     "metadata": {},
     "output_type": "execute_result"
    }
   ],
   "source": [
    "df.head(3)"
   ]
  },
  {
   "cell_type": "markdown",
   "metadata": {},
   "source": [
    "**Save the csv file**"
   ]
  },
  {
   "cell_type": "code",
   "execution_count": 8,
   "metadata": {},
   "outputs": [],
   "source": [
    "df.to_csv(here(\"data/movie_csv/movie.csv\"), sep=\",\", index=False)"
   ]
  }
 ],
 "metadata": {
  "kernelspec": {
   "display_name": "playaround",
   "language": "python",
   "name": "python3"
  },
  "language_info": {
   "codemirror_mode": {
    "name": "ipython",
    "version": 3
   },
   "file_extension": ".py",
   "mimetype": "text/x-python",
   "name": "python",
   "nbconvert_exporter": "python",
   "pygments_lexer": "ipython3",
   "version": "3.11.9"
  }
 },
 "nbformat": 4,
 "nbformat_minor": 2
}

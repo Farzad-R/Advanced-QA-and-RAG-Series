{
 "cells": [
  {
   "cell_type": "code",
   "execution_count": 1,
   "metadata": {},
   "outputs": [],
   "source": [
    "from langchain_community.graphs import Neo4jGraph\n",
    "# from neo4j.debug import watch\n",
    "import pandas as pd\n",
    "from pyprojroot import here\n",
    "# watch(\"neo4j\")"
   ]
  },
  {
   "cell_type": "markdown",
   "metadata": {},
   "source": [
    "**Keep the following info as secret keys or in environment variables**"
   ]
  },
  {
   "cell_type": "code",
   "execution_count": 2,
   "metadata": {},
   "outputs": [],
   "source": [
    "NEO4J_URL = \"bolt://localhost:7687\"\n",
    "NEO4J_USERNAME = \"neo4j\"\n",
    "NEO4J_PASSWORD = \"12345678\"\n",
    "NEO4J_DATABASE = 'neo4j'"
   ]
  },
  {
   "cell_type": "markdown",
   "metadata": {},
   "source": [
    "**Load an instance of the Graph DB**"
   ]
  },
  {
   "cell_type": "code",
   "execution_count": 5,
   "metadata": {},
   "outputs": [],
   "source": [
    "graph = Neo4jGraph(url=NEO4J_URL, username=NEO4J_USERNAME, password=NEO4J_PASSWORD, database=NEO4J_DATABASE)"
   ]
  },
  {
   "cell_type": "markdown",
   "metadata": {},
   "source": [
    "**Nodes:**\n",
    "- `Movie`: Represents a movie. Each movie node has <u>attributes</u> such as **id** (a unique identifier for the movie), **released** (the release date of the movie), **title** (the movie's title), and **imdbRating** (the movie's rating on IMDb).\n",
    "- `Person`: Represents an individual who can either be an <u>actor</u> or a <u>director</u> (or both) in movies. Each person node has a <u>single attribute</u>, **name**, which is the name of the person.\n",
    "- `Genre`: Represents a movie genre. Each genre node has a <u>single attribute</u>, **name**, which is the genre type (e.g., Action, Comedy, Drama, etc.).\n",
    "- `Location`: Represents the location where the movies was taken. Each location has a single attribute **name**, which is the name of the location (e.g: United States, United Kingdom)\n",
    "- `SimilarMovie`: Rrpresents a similar movie to its corresponding movie. Each similar movie has a single attribute **name**, which is the name of the movie (e.g: Finding Nemo. Which is the similar movie for Toy story)\n",
    "\n",
    "**Relationships:**\n",
    "- `:DIRECTED`: A directional relationship from a Person node to a Movie node, signifying that the person directed the movie.\n",
    "- `:ACTED_IN`: A directional relationship from a Person node to a Movie node, signifying that the person acted in the movie.\n",
    "- `:IN_GENRE`: A directional relationship from a Movie node to a Genre node, signifying that the movie belongs to that particular genre.\n",
    "- `:WAS_TAKEN_IN`: A directional relationship from a Movie node to a Location node, signifying that the movie was taken in that location.\n",
    "- `:IS_SIMILAR_TO`: A directional relationship from a Movie node to a SimilarMovie node, signifying that movies is similar to the one we are looking at.\n",
    "\n",
    "**Instructions in the script:**\n",
    "- `LOAD CSV WITH HEADERS`: Loads a CSV file that contains the movie data with headers indicating each column's purpose.\n",
    "- `MERGE`: Ensures that a node or relationship is created if it does not already exist; otherwise, it matches the existing node or relationship. This prevents duplication.\n",
    "- `SET`: Assigns properties to the nodes after they've been created or matched.\n",
    "- `FOREACH`: Executes the contained commands for each element in a list. This is used to iterate over the lists of directors, actors, and genres associated with each movie. It ensures that all the respective Person and Genre nodes are created and linked appropriately to the Movie nodes."
   ]
  },
  {
   "cell_type": "markdown",
   "metadata": {},
   "source": [
    "**To load the data withing cypher query:**\n",
    "\n",
    "--------------------\n",
    "- NOTE: Uncomment `dbms.security.allow_csv_import_from_file_urls=true` in `neo4j.conf` to be able to load the file locally.\n",
    "- NOTE: Absolute path + no space for the file directory.\n",
    "--------------------"
   ]
  },
  {
   "cell_type": "markdown",
   "metadata": {},
   "source": [
    "**Loading the data for test:**"
   ]
  },
  {
   "cell_type": "code",
   "execution_count": 6,
   "metadata": {},
   "outputs": [
    {
     "name": "stdout",
     "output_type": "stream",
     "text": [
      "Index(['movieId', 'released', 'title', 'actors', 'director', 'genres',\n",
      "       'imdbRating', 'similar_movie', 'tagline', 'location'],\n",
      "      dtype='object')\n",
      "DAta shape: (20, 10)\n"
     ]
    }
   ],
   "source": [
    "movie_csv_path = here(\"data/movie_csv/movie.csv\")\n",
    "print(pd.read_csv(movie_csv_path).columns)\n",
    "print(\"DAta shape:\", pd.read_csv(movie_csv_path).shape)"
   ]
  },
  {
   "cell_type": "markdown",
   "metadata": {},
   "source": [
    "**The knowledge graph that we want to construct from our tabular data**"
   ]
  },
  {
   "cell_type": "markdown",
   "metadata": {},
   "source": [
    "![Alt Text](../../images/movie_KnowledgeGraph.png)"
   ]
  },
  {
   "cell_type": "markdown",
   "metadata": {},
   "source": [
    "**Import movie information from the CSV file with tagline, construct the knowledge graph, and store the data in the Graph database**"
   ]
  },
  {
   "cell_type": "code",
   "execution_count": 7,
   "metadata": {},
   "outputs": [
    {
     "data": {
      "text/plain": [
       "[]"
      ]
     },
     "execution_count": 7,
     "metadata": {},
     "output_type": "execute_result"
    }
   ],
   "source": [
    "graph.query(\"\"\"\n",
    "LOAD CSV WITH HEADERS FROM 'file:///' + $movie_directory    // Load CSV data from a file specified by $movie_directory\n",
    "AS row                                                      // Each row in the CSV will be represented as 'row'\n",
    "            \n",
    "MERGE (m:Movie {id:row.movieId})                            // Merge a Movie node with the id from the row\n",
    "SET m.released = date(row.released),                        // Set the 'released' property of the Movie node to the date from the row\n",
    "    m.title = row.title,                                    // Set the 'title' property of the Movie node to the title from the row\n",
    "    m.tagline = row.tagline,                                // Set the 'tagline' property of the Movie node to the tagline from the row\n",
    "    m.imdbRating = toFloat(row.imdbRating)                  // Convert the 'imdbRating' from string to float and set it as the property\n",
    "            \n",
    "FOREACH (director in split(row.director, '|') |             // For each director in the list of directors from the row (split by '|') \n",
    "    MERGE (p:Person {name:trim(director)})                  // Merge a Person node with the director's name from the row, trimming any extra spaces\n",
    "    MERGE (p)-[:DIRECTED]->(m))                             // Create a DIRECTED relationship from the director to the Movie\n",
    "            \n",
    "FOREACH (actor in split(row.actors, '|') |                  // For each actor in the list of actors from the row (split by '|') \n",
    "    MERGE (p:Person {name:trim(actor)})                     // Merge a Person node with the actor's name from the row, trimming any extra spaces\n",
    "    MERGE (p)-[:ACTED_IN]->(m))                             // Create an ACTED_IN relationship from the actor to the Movie\n",
    "            \n",
    "FOREACH (genre in split(row.genres, '|') |                  // For each genre in the list of genres from the row (split by '|')\n",
    "    MERGE (g:Genre {name:trim(genre)})                      // Merge a Genre node with the genre's name from the row, trimming any extra spaces\n",
    "    MERGE (m)-[:IN_GENRE]->(g))                             // Create an IN_GENRE relationship from the Movie to the Genre\n",
    "            \n",
    "MERGE (l:Location {name:trim(row.location)})\n",
    "MERGE (m)-[:WAS_TAKEN_IN]->(l)\n",
    "\n",
    "MERGE (s:SimilarMovie {name:trim(row.similar_movie)})\n",
    "MERGE (m)-[:IS_SIMILAR_TO]->(s)                                            \n",
    "\"\"\",\n",
    "params={\"movie_directory\": str(movie_csv_path)})            # Pass the parameter 'movie_directory' which contains the path to the CSV file"
   ]
  },
  {
   "cell_type": "markdown",
   "metadata": {},
   "source": [
    "**Print the graph database schema and verify the knowledge graph**"
   ]
  },
  {
   "cell_type": "code",
   "execution_count": 8,
   "metadata": {},
   "outputs": [
    {
     "name": "stdout",
     "output_type": "stream",
     "text": [
      "Node properties are the following:\n",
      "Movie {imdbRating: FLOAT, taglineEmbedding: LIST, tagline: STRING, id: STRING, released: DATE, title: STRING},Person {name: STRING},Genre {name: STRING},Location {name: STRING},SimilarMovie {name: STRING}\n",
      "Relationship properties are the following:\n",
      "\n",
      "The relationships are the following:\n",
      "(:Movie)-[:IS_SIMILAR_TO]->(:SimilarMovie),(:Movie)-[:IN_GENRE]->(:Genre),(:Movie)-[:WAS_TAKEN_IN]->(:Location),(:Person)-[:DIRECTED]->(:Movie),(:Person)-[:ACTED_IN]->(:Movie)\n"
     ]
    }
   ],
   "source": [
    "graph.refresh_schema()\n",
    "print(graph.schema)"
   ]
  },
  {
   "cell_type": "markdown",
   "metadata": {},
   "source": [
    "**Check the number of nodes that were created from the data (original shape of data: `(20, 9)`)**"
   ]
  },
  {
   "cell_type": "code",
   "execution_count": 9,
   "metadata": {},
   "outputs": [
    {
     "data": {
      "text/plain": [
       "[{'count(n)': 155}]"
      ]
     },
     "execution_count": 9,
     "metadata": {},
     "output_type": "execute_result"
    }
   ],
   "source": [
    "# Match all nodes in the graph\n",
    "cypher = \"\"\"\n",
    "  MATCH (n) \n",
    "  RETURN count(n)\n",
    "  \"\"\"\n",
    "result = graph.query(cypher)\n",
    "result"
   ]
  },
  {
   "cell_type": "markdown",
   "metadata": {},
   "source": [
    "### **Create vector embedding from the `tagline` column for RAG**"
   ]
  },
  {
   "cell_type": "code",
   "execution_count": 10,
   "metadata": {},
   "outputs": [
    {
     "data": {
      "text/plain": [
       "True"
      ]
     },
     "execution_count": 10,
     "metadata": {},
     "output_type": "execute_result"
    }
   ],
   "source": [
    "import os\n",
    "import pandas as pd\n",
    "from dotenv import load_dotenv\n",
    "load_dotenv()"
   ]
  },
  {
   "cell_type": "code",
   "execution_count": 12,
   "metadata": {},
   "outputs": [
    {
     "name": "stdout",
     "output_type": "stream",
     "text": [
      "Index(['movieId', 'released', 'title', 'actors', 'director', 'genres',\n",
      "       'imdbRating', 'similar_movie', 'tagline', 'location'],\n",
      "      dtype='object')\n"
     ]
    },
    {
     "data": {
      "text/html": [
       "<div>\n",
       "<style scoped>\n",
       "    .dataframe tbody tr th:only-of-type {\n",
       "        vertical-align: middle;\n",
       "    }\n",
       "\n",
       "    .dataframe tbody tr th {\n",
       "        vertical-align: top;\n",
       "    }\n",
       "\n",
       "    .dataframe thead th {\n",
       "        text-align: right;\n",
       "    }\n",
       "</style>\n",
       "<table border=\"1\" class=\"dataframe\">\n",
       "  <thead>\n",
       "    <tr style=\"text-align: right;\">\n",
       "      <th></th>\n",
       "      <th>movieId</th>\n",
       "      <th>released</th>\n",
       "      <th>title</th>\n",
       "      <th>actors</th>\n",
       "      <th>director</th>\n",
       "      <th>genres</th>\n",
       "      <th>imdbRating</th>\n",
       "      <th>similar_movie</th>\n",
       "      <th>tagline</th>\n",
       "      <th>location</th>\n",
       "    </tr>\n",
       "  </thead>\n",
       "  <tbody>\n",
       "    <tr>\n",
       "      <th>0</th>\n",
       "      <td>1</td>\n",
       "      <td>1995-11-22</td>\n",
       "      <td>Toy Story</td>\n",
       "      <td>Jim Varney|Tim Allen|Tom Hanks|Don Rickles</td>\n",
       "      <td>John Lasseter</td>\n",
       "      <td>Adventure|Animation|Children|Comedy|Fantasy</td>\n",
       "      <td>8.3</td>\n",
       "      <td>Finding Nemo</td>\n",
       "      <td>The adventure takes off!</td>\n",
       "      <td>United States</td>\n",
       "    </tr>\n",
       "    <tr>\n",
       "      <th>1</th>\n",
       "      <td>2</td>\n",
       "      <td>1995-12-15</td>\n",
       "      <td>Jumanji</td>\n",
       "      <td>Robin Williams|Bradley Pierce|Kirsten Dunst|Jo...</td>\n",
       "      <td>Joe Johnston</td>\n",
       "      <td>Adventure|Children|Fantasy</td>\n",
       "      <td>6.9</td>\n",
       "      <td>Jumanji: Welcome to the Jungle</td>\n",
       "      <td>Roll the dice and unleash the excitement!</td>\n",
       "      <td>United States</td>\n",
       "    </tr>\n",
       "    <tr>\n",
       "      <th>2</th>\n",
       "      <td>3</td>\n",
       "      <td>1995-12-22</td>\n",
       "      <td>Grumpier Old Men</td>\n",
       "      <td>Walter Matthau|Ann-Margret|Jack Lemmon|Sophia ...</td>\n",
       "      <td>Howard Deutch</td>\n",
       "      <td>Comedy|Romance</td>\n",
       "      <td>6.6</td>\n",
       "      <td>The Bucket List</td>\n",
       "      <td>Still Yelling. Still Fighting. Still Ready for...</td>\n",
       "      <td>United States</td>\n",
       "    </tr>\n",
       "  </tbody>\n",
       "</table>\n",
       "</div>"
      ],
      "text/plain": [
       "   movieId    released             title  \\\n",
       "0        1  1995-11-22         Toy Story   \n",
       "1        2  1995-12-15           Jumanji   \n",
       "2        3  1995-12-22  Grumpier Old Men   \n",
       "\n",
       "                                              actors       director  \\\n",
       "0         Jim Varney|Tim Allen|Tom Hanks|Don Rickles  John Lasseter   \n",
       "1  Robin Williams|Bradley Pierce|Kirsten Dunst|Jo...   Joe Johnston   \n",
       "2  Walter Matthau|Ann-Margret|Jack Lemmon|Sophia ...  Howard Deutch   \n",
       "\n",
       "                                        genres  imdbRating  \\\n",
       "0  Adventure|Animation|Children|Comedy|Fantasy         8.3   \n",
       "1                   Adventure|Children|Fantasy         6.9   \n",
       "2                               Comedy|Romance         6.6   \n",
       "\n",
       "                    similar_movie  \\\n",
       "0                    Finding Nemo   \n",
       "1  Jumanji: Welcome to the Jungle   \n",
       "2                 The Bucket List   \n",
       "\n",
       "                                             tagline       location  \n",
       "0                           The adventure takes off!  United States  \n",
       "1          Roll the dice and unleash the excitement!  United States  \n",
       "2  Still Yelling. Still Fighting. Still Ready for...  United States  "
      ]
     },
     "execution_count": 12,
     "metadata": {},
     "output_type": "execute_result"
    }
   ],
   "source": [
    "movie_csv_path = here(\"data/movie_csv/movie.csv\")\n",
    "df = pd.read_csv(movie_csv_path)\n",
    "print(df.columns)\n",
    "df.head(3)"
   ]
  },
  {
   "cell_type": "code",
   "execution_count": 13,
   "metadata": {},
   "outputs": [],
   "source": [
    "# model_name = \"gpt-35-turbo-1106\"\n",
    "model_name = \"gpt-35-turbo\"\n",
    "azure_openai_api_key = os.environ[\"OPENAI_API_KEY\"]\n",
    "azure_openai_endpoint = os.environ[\"OPENAI_API_BASE\"]"
   ]
  },
  {
   "cell_type": "markdown",
   "metadata": {},
   "source": [
    "**Load the Azure OpenAI Embedding Model**"
   ]
  },
  {
   "cell_type": "code",
   "execution_count": 14,
   "metadata": {},
   "outputs": [],
   "source": [
    "from openai import AzureOpenAI\n",
    "from typing import List\n",
    "\n",
    "client = AzureOpenAI(\n",
    "  api_key = azure_openai_api_key,  \n",
    "  api_version = \"2023-07-01-preview\",\n",
    "  azure_endpoint = azure_openai_endpoint\n",
    ")\n",
    "\n",
    "def embed_text(text:str)->List:\n",
    "    \"\"\"\n",
    "    Embeds the given text using the specified model.\n",
    "\n",
    "    Parameters:\n",
    "        text (str): The text to be embedded.\n",
    "\n",
    "    Returns:\n",
    "        List: A list containing the embedding of the text.\n",
    "    \"\"\"\n",
    "    response = client.embeddings.create(\n",
    "    input = text,\n",
    "    model= \"text-embedding-ada-002\"\n",
    "    )\n",
    "    return response.data[0].embedding"
   ]
  },
  {
   "cell_type": "code",
   "execution_count": 15,
   "metadata": {},
   "outputs": [
    {
     "data": {
      "text/plain": [
       "0                             The adventure takes off!\n",
       "1            Roll the dice and unleash the excitement!\n",
       "2    Still Yelling. Still Fighting. Still Ready for...\n",
       "Name: tagline, dtype: object"
      ]
     },
     "execution_count": 15,
     "metadata": {},
     "output_type": "execute_result"
    }
   ],
   "source": [
    "df[\"tagline\"][:3]"
   ]
  },
  {
   "cell_type": "code",
   "execution_count": 16,
   "metadata": {},
   "outputs": [],
   "source": [
    "embedding_list = [embed_text(i) for i in df[\"tagline\"]]"
   ]
  },
  {
   "cell_type": "code",
   "execution_count": 17,
   "metadata": {},
   "outputs": [
    {
     "name": "stdout",
     "output_type": "stream",
     "text": [
      "Number of vectors: 20\n",
      "Embedding dimension: 1536\n"
     ]
    },
    {
     "data": {
      "text/plain": [
       "[0.023812185972929,\n",
       " -0.036298904567956924,\n",
       " -0.006856604944914579,\n",
       " -0.012976010330021381,\n",
       " -0.020980820059776306]"
      ]
     },
     "execution_count": 17,
     "metadata": {},
     "output_type": "execute_result"
    }
   ],
   "source": [
    "print(\"Number of vectors:\", len(embedding_list))\n",
    "print(\"Embedding dimension:\", len(embedding_list[0]))\n",
    "embedding_list[0][:5]"
   ]
  },
  {
   "cell_type": "code",
   "execution_count": 18,
   "metadata": {},
   "outputs": [
    {
     "data": {
      "text/html": [
       "<div>\n",
       "<style scoped>\n",
       "    .dataframe tbody tr th:only-of-type {\n",
       "        vertical-align: middle;\n",
       "    }\n",
       "\n",
       "    .dataframe tbody tr th {\n",
       "        vertical-align: top;\n",
       "    }\n",
       "\n",
       "    .dataframe thead th {\n",
       "        text-align: right;\n",
       "    }\n",
       "</style>\n",
       "<table border=\"1\" class=\"dataframe\">\n",
       "  <thead>\n",
       "    <tr style=\"text-align: right;\">\n",
       "      <th></th>\n",
       "      <th>movieId</th>\n",
       "      <th>released</th>\n",
       "      <th>title</th>\n",
       "      <th>actors</th>\n",
       "      <th>director</th>\n",
       "      <th>genres</th>\n",
       "      <th>imdbRating</th>\n",
       "      <th>similar_movie</th>\n",
       "      <th>tagline</th>\n",
       "      <th>location</th>\n",
       "      <th>taglineEmbedding</th>\n",
       "    </tr>\n",
       "  </thead>\n",
       "  <tbody>\n",
       "    <tr>\n",
       "      <th>0</th>\n",
       "      <td>1</td>\n",
       "      <td>1995-11-22</td>\n",
       "      <td>Toy Story</td>\n",
       "      <td>Jim Varney|Tim Allen|Tom Hanks|Don Rickles</td>\n",
       "      <td>John Lasseter</td>\n",
       "      <td>Adventure|Animation|Children|Comedy|Fantasy</td>\n",
       "      <td>8.3</td>\n",
       "      <td>Finding Nemo</td>\n",
       "      <td>The adventure takes off!</td>\n",
       "      <td>United States</td>\n",
       "      <td>[0.023812185972929, -0.036298904567956924, -0....</td>\n",
       "    </tr>\n",
       "    <tr>\n",
       "      <th>1</th>\n",
       "      <td>2</td>\n",
       "      <td>1995-12-15</td>\n",
       "      <td>Jumanji</td>\n",
       "      <td>Robin Williams|Bradley Pierce|Kirsten Dunst|Jo...</td>\n",
       "      <td>Joe Johnston</td>\n",
       "      <td>Adventure|Children|Fantasy</td>\n",
       "      <td>6.9</td>\n",
       "      <td>Jumanji: Welcome to the Jungle</td>\n",
       "      <td>Roll the dice and unleash the excitement!</td>\n",
       "      <td>United States</td>\n",
       "      <td>[-0.005139722488820553, -0.015951087698340416,...</td>\n",
       "    </tr>\n",
       "    <tr>\n",
       "      <th>2</th>\n",
       "      <td>3</td>\n",
       "      <td>1995-12-22</td>\n",
       "      <td>Grumpier Old Men</td>\n",
       "      <td>Walter Matthau|Ann-Margret|Jack Lemmon|Sophia ...</td>\n",
       "      <td>Howard Deutch</td>\n",
       "      <td>Comedy|Romance</td>\n",
       "      <td>6.6</td>\n",
       "      <td>The Bucket List</td>\n",
       "      <td>Still Yelling. Still Fighting. Still Ready for...</td>\n",
       "      <td>United States</td>\n",
       "      <td>[-0.02191801927983761, -0.022048715502023697, ...</td>\n",
       "    </tr>\n",
       "  </tbody>\n",
       "</table>\n",
       "</div>"
      ],
      "text/plain": [
       "   movieId    released             title  \\\n",
       "0        1  1995-11-22         Toy Story   \n",
       "1        2  1995-12-15           Jumanji   \n",
       "2        3  1995-12-22  Grumpier Old Men   \n",
       "\n",
       "                                              actors       director  \\\n",
       "0         Jim Varney|Tim Allen|Tom Hanks|Don Rickles  John Lasseter   \n",
       "1  Robin Williams|Bradley Pierce|Kirsten Dunst|Jo...   Joe Johnston   \n",
       "2  Walter Matthau|Ann-Margret|Jack Lemmon|Sophia ...  Howard Deutch   \n",
       "\n",
       "                                        genres  imdbRating  \\\n",
       "0  Adventure|Animation|Children|Comedy|Fantasy         8.3   \n",
       "1                   Adventure|Children|Fantasy         6.9   \n",
       "2                               Comedy|Romance         6.6   \n",
       "\n",
       "                    similar_movie  \\\n",
       "0                    Finding Nemo   \n",
       "1  Jumanji: Welcome to the Jungle   \n",
       "2                 The Bucket List   \n",
       "\n",
       "                                             tagline       location  \\\n",
       "0                           The adventure takes off!  United States   \n",
       "1          Roll the dice and unleash the excitement!  United States   \n",
       "2  Still Yelling. Still Fighting. Still Ready for...  United States   \n",
       "\n",
       "                                    taglineEmbedding  \n",
       "0  [0.023812185972929, -0.036298904567956924, -0....  \n",
       "1  [-0.005139722488820553, -0.015951087698340416,...  \n",
       "2  [-0.02191801927983761, -0.022048715502023697, ...  "
      ]
     },
     "execution_count": 18,
     "metadata": {},
     "output_type": "execute_result"
    }
   ],
   "source": [
    "df[\"taglineEmbedding\"] = embedding_list\n",
    "df.head(3)"
   ]
  },
  {
   "cell_type": "markdown",
   "metadata": {},
   "source": [
    "**Create a vector index**"
   ]
  },
  {
   "cell_type": "code",
   "execution_count": 19,
   "metadata": {},
   "outputs": [
    {
     "data": {
      "text/plain": [
       "[]"
      ]
     },
     "execution_count": 19,
     "metadata": {},
     "output_type": "execute_result"
    }
   ],
   "source": [
    "graph.query(\"\"\"\n",
    "  CREATE VECTOR INDEX movie_tagline_embeddings IF NOT EXISTS      // Create a vector index named 'movie_tagline_embeddings' if it doesn't already exist  \n",
    "  FOR (m:Movie) ON (m.taglineEmbedding)                           // Index the 'taglineEmbedding' property of Movie nodes \n",
    "  OPTIONS { indexConfig: {                                        // Set options for the index\n",
    "    `vector.dimensions`: 1536,                                    // Specify the dimensionality of the vector space (1536 dimensions)\n",
    "    `vector.similarity_function`: 'cosine'                        // Specify the similarity function to be cosine similarity\n",
    "  }}\"\"\"\n",
    ")"
   ]
  },
  {
   "cell_type": "markdown",
   "metadata": {},
   "source": [
    "Executing this query will return details such as the names of the indexes, the node labels they are created for, the properties they index, and the configuration options of each index. It's a way to inspect the existing vector indexes in the database."
   ]
  },
  {
   "cell_type": "code",
   "execution_count": 20,
   "metadata": {},
   "outputs": [
    {
     "data": {
      "text/plain": [
       "[{'id': 3,\n",
       "  'name': 'movie_tagline_embeddings',\n",
       "  'state': 'ONLINE',\n",
       "  'populationPercent': 100.0,\n",
       "  'type': 'VECTOR',\n",
       "  'entityType': 'NODE',\n",
       "  'labelsOrTypes': ['Movie'],\n",
       "  'properties': ['taglineEmbedding'],\n",
       "  'indexProvider': 'vector-1.0',\n",
       "  'owningConstraint': None,\n",
       "  'lastRead': None,\n",
       "  'readCount': 0}]"
      ]
     },
     "execution_count": 20,
     "metadata": {},
     "output_type": "execute_result"
    }
   ],
   "source": [
    "graph.query(\"\"\"\n",
    "  SHOW VECTOR INDEXES     // Retrieves information about all vector indexes in the database\n",
    "  \"\"\"\n",
    ")"
   ]
  },
  {
   "cell_type": "markdown",
   "metadata": {},
   "source": [
    "- `'id': 3`: The unique identifier of the index.\n",
    "- `'name': 'movie_tagline_embeddings'`: The name of the index.\n",
    "- `'state': 'ONLINE'`: The current state of the index. In this case, it's 'ONLINE', meaning it's available for querying.\n",
    "- `'populationPercent': 100.0`: Indicates how much of the database is covered by the index. Here, it's 100%, meaning all relevant nodes have been indexed.\n",
    "- `'type': 'VECTOR'`: Specifies the type of index. Here, it's a vector index.\n",
    "- `'entityType': 'NODE'`: Specifies that this index is applied to nodes.\n",
    "- `'labelsOrTypes': ['Movie']`: Specifies the labels or types of nodes this index is created for. In this case, it's only for nodes labeled as 'Movie'.\n",
    "- `'properties': ['taglineEmbedding']`: Specifies the properties of the nodes that are indexed. Here, it's the 'taglineEmbedding' property of Movie nodes.\n",
    "- `'indexProvider': 'vector-1.0'`: Specifies the index provider used to create this index.\n",
    "- `'owningConstraint': None`: If the index is associated with any constraint, it would be specified here. In this case, there is no constraint associated.\n",
    "- `'lastRead': neo4j.time.DateTime(2024, 4, 28, 1, 47, 24, 253000000, tzinfo=<UTC>)`: Indicates the timestamp of the last read operation on this index.\n",
    "- `'readCount': 5`: Indicates the number of times this index has been read. Here, it's been read 5 times."
   ]
  },
  {
   "cell_type": "markdown",
   "metadata": {},
   "source": [
    "**Populate the index**"
   ]
  },
  {
   "cell_type": "code",
   "execution_count": 21,
   "metadata": {},
   "outputs": [
    {
     "data": {
      "text/html": [
       "<div>\n",
       "<style scoped>\n",
       "    .dataframe tbody tr th:only-of-type {\n",
       "        vertical-align: middle;\n",
       "    }\n",
       "\n",
       "    .dataframe tbody tr th {\n",
       "        vertical-align: top;\n",
       "    }\n",
       "\n",
       "    .dataframe thead th {\n",
       "        text-align: right;\n",
       "    }\n",
       "</style>\n",
       "<table border=\"1\" class=\"dataframe\">\n",
       "  <thead>\n",
       "    <tr style=\"text-align: right;\">\n",
       "      <th></th>\n",
       "      <th>movieId</th>\n",
       "      <th>released</th>\n",
       "      <th>title</th>\n",
       "      <th>actors</th>\n",
       "      <th>director</th>\n",
       "      <th>genres</th>\n",
       "      <th>imdbRating</th>\n",
       "      <th>similar_movie</th>\n",
       "      <th>tagline</th>\n",
       "      <th>location</th>\n",
       "      <th>taglineEmbedding</th>\n",
       "    </tr>\n",
       "  </thead>\n",
       "  <tbody>\n",
       "    <tr>\n",
       "      <th>0</th>\n",
       "      <td>1</td>\n",
       "      <td>1995-11-22</td>\n",
       "      <td>Toy Story</td>\n",
       "      <td>Jim Varney|Tim Allen|Tom Hanks|Don Rickles</td>\n",
       "      <td>John Lasseter</td>\n",
       "      <td>Adventure|Animation|Children|Comedy|Fantasy</td>\n",
       "      <td>8.3</td>\n",
       "      <td>Finding Nemo</td>\n",
       "      <td>The adventure takes off!</td>\n",
       "      <td>United States</td>\n",
       "      <td>[0.023812185972929, -0.036298904567956924, -0....</td>\n",
       "    </tr>\n",
       "    <tr>\n",
       "      <th>1</th>\n",
       "      <td>2</td>\n",
       "      <td>1995-12-15</td>\n",
       "      <td>Jumanji</td>\n",
       "      <td>Robin Williams|Bradley Pierce|Kirsten Dunst|Jo...</td>\n",
       "      <td>Joe Johnston</td>\n",
       "      <td>Adventure|Children|Fantasy</td>\n",
       "      <td>6.9</td>\n",
       "      <td>Jumanji: Welcome to the Jungle</td>\n",
       "      <td>Roll the dice and unleash the excitement!</td>\n",
       "      <td>United States</td>\n",
       "      <td>[-0.005139722488820553, -0.015951087698340416,...</td>\n",
       "    </tr>\n",
       "    <tr>\n",
       "      <th>2</th>\n",
       "      <td>3</td>\n",
       "      <td>1995-12-22</td>\n",
       "      <td>Grumpier Old Men</td>\n",
       "      <td>Walter Matthau|Ann-Margret|Jack Lemmon|Sophia ...</td>\n",
       "      <td>Howard Deutch</td>\n",
       "      <td>Comedy|Romance</td>\n",
       "      <td>6.6</td>\n",
       "      <td>The Bucket List</td>\n",
       "      <td>Still Yelling. Still Fighting. Still Ready for...</td>\n",
       "      <td>United States</td>\n",
       "      <td>[-0.02191801927983761, -0.022048715502023697, ...</td>\n",
       "    </tr>\n",
       "  </tbody>\n",
       "</table>\n",
       "</div>"
      ],
      "text/plain": [
       "   movieId    released             title  \\\n",
       "0        1  1995-11-22         Toy Story   \n",
       "1        2  1995-12-15           Jumanji   \n",
       "2        3  1995-12-22  Grumpier Old Men   \n",
       "\n",
       "                                              actors       director  \\\n",
       "0         Jim Varney|Tim Allen|Tom Hanks|Don Rickles  John Lasseter   \n",
       "1  Robin Williams|Bradley Pierce|Kirsten Dunst|Jo...   Joe Johnston   \n",
       "2  Walter Matthau|Ann-Margret|Jack Lemmon|Sophia ...  Howard Deutch   \n",
       "\n",
       "                                        genres  imdbRating  \\\n",
       "0  Adventure|Animation|Children|Comedy|Fantasy         8.3   \n",
       "1                   Adventure|Children|Fantasy         6.9   \n",
       "2                               Comedy|Romance         6.6   \n",
       "\n",
       "                    similar_movie  \\\n",
       "0                    Finding Nemo   \n",
       "1  Jumanji: Welcome to the Jungle   \n",
       "2                 The Bucket List   \n",
       "\n",
       "                                             tagline       location  \\\n",
       "0                           The adventure takes off!  United States   \n",
       "1          Roll the dice and unleash the excitement!  United States   \n",
       "2  Still Yelling. Still Fighting. Still Ready for...  United States   \n",
       "\n",
       "                                    taglineEmbedding  \n",
       "0  [0.023812185972929, -0.036298904567956924, -0....  \n",
       "1  [-0.005139722488820553, -0.015951087698340416,...  \n",
       "2  [-0.02191801927983761, -0.022048715502023697, ...  "
      ]
     },
     "execution_count": 21,
     "metadata": {},
     "output_type": "execute_result"
    }
   ],
   "source": [
    "df.head(3)"
   ]
  },
  {
   "cell_type": "code",
   "execution_count": 22,
   "metadata": {},
   "outputs": [],
   "source": [
    "for index, row in df.iterrows():\n",
    "    movie_id = row['movieId']\n",
    "    embedding = row['taglineEmbedding']\n",
    "    graph.query(f\"MATCH (m:Movie {{id: '{movie_id}'}}) SET m.taglineEmbedding = {embedding}\")"
   ]
  },
  {
   "cell_type": "markdown",
   "metadata": {},
   "source": [
    "**Verify that the index was created successfuly**"
   ]
  },
  {
   "cell_type": "code",
   "execution_count": 23,
   "metadata": {},
   "outputs": [
    {
     "name": "stdout",
     "output_type": "stream",
     "text": [
      "Node properties are the following:\n",
      "Movie {imdbRating: FLOAT, taglineEmbedding: LIST, tagline: STRING, id: STRING, released: DATE, title: STRING},Person {name: STRING},Genre {name: STRING},Location {name: STRING},SimilarMovie {name: STRING}\n",
      "Relationship properties are the following:\n",
      "\n",
      "The relationships are the following:\n",
      "(:Movie)-[:IS_SIMILAR_TO]->(:SimilarMovie),(:Movie)-[:IN_GENRE]->(:Genre),(:Movie)-[:WAS_TAKEN_IN]->(:Location),(:Person)-[:DIRECTED]->(:Movie),(:Person)-[:ACTED_IN]->(:Movie)\n"
     ]
    }
   ],
   "source": [
    "graph.refresh_schema()\n",
    "print(graph.schema)"
   ]
  },
  {
   "cell_type": "markdown",
   "metadata": {},
   "source": [
    "**Print an example from the database:**"
   ]
  },
  {
   "cell_type": "code",
   "execution_count": 24,
   "metadata": {},
   "outputs": [],
   "source": [
    "result = graph.query(\"\"\"\n",
    "    MATCH (m:Movie) \n",
    "    WHERE m.tagline IS NOT NULL\n",
    "    RETURN m.tagline, m.taglineEmbedding\n",
    "    LIMIT 1\n",
    "    \"\"\"\n",
    ")"
   ]
  },
  {
   "cell_type": "code",
   "execution_count": 25,
   "metadata": {},
   "outputs": [
    {
     "data": {
      "text/plain": [
       "'The adventure takes off!'"
      ]
     },
     "execution_count": 25,
     "metadata": {},
     "output_type": "execute_result"
    }
   ],
   "source": [
    "result[0]['m.tagline']"
   ]
  },
  {
   "cell_type": "code",
   "execution_count": 27,
   "metadata": {},
   "outputs": [
    {
     "data": {
      "text/plain": [
       "[0.023812185972929,\n",
       " -0.036298904567956924,\n",
       " -0.006856604944914579,\n",
       " -0.012976010330021381,\n",
       " -0.020980820059776306,\n",
       " 0.027922235429286957,\n",
       " -0.0160096175968647,\n",
       " -0.02359037473797798,\n",
       " 0.0020631791558116674,\n",
       " -0.014600458554923534]"
      ]
     },
     "execution_count": 27,
     "metadata": {},
     "output_type": "execute_result"
    }
   ],
   "source": [
    "result[0]['m.taglineEmbedding'][:10]"
   ]
  }
 ],
 "metadata": {
  "kernelspec": {
   "display_name": "playaround",
   "language": "python",
   "name": "python3"
  },
  "language_info": {
   "codemirror_mode": {
    "name": "ipython",
    "version": 3
   },
   "file_extension": ".py",
   "mimetype": "text/x-python",
   "name": "python",
   "nbconvert_exporter": "python",
   "pygments_lexer": "ipython3",
   "version": "3.11.8"
  }
 },
 "nbformat": 4,
 "nbformat_minor": 2
}

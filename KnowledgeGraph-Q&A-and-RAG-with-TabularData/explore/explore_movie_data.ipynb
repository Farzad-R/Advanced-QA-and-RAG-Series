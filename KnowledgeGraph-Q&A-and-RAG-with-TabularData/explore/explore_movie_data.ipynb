{
 "cells": [
  {
   "cell_type": "code",
   "execution_count": 1,
   "metadata": {},
   "outputs": [],
   "source": [
    "from pyprojroot import here\n",
    "import pandas as pd"
   ]
  },
  {
   "cell_type": "code",
   "execution_count": 2,
   "metadata": {},
   "outputs": [],
   "source": [
    "df = pd.read_csv(here(\"data/movie_csv/movie.csv\"))\n",
    "df['released'] = pd.to_datetime(df['released'])"
   ]
  },
  {
   "cell_type": "code",
   "execution_count": 3,
   "metadata": {},
   "outputs": [
    {
     "data": {
      "text/html": [
       "<div>\n",
       "<style scoped>\n",
       "    .dataframe tbody tr th:only-of-type {\n",
       "        vertical-align: middle;\n",
       "    }\n",
       "\n",
       "    .dataframe tbody tr th {\n",
       "        vertical-align: top;\n",
       "    }\n",
       "\n",
       "    .dataframe thead th {\n",
       "        text-align: right;\n",
       "    }\n",
       "</style>\n",
       "<table border=\"1\" class=\"dataframe\">\n",
       "  <thead>\n",
       "    <tr style=\"text-align: right;\">\n",
       "      <th></th>\n",
       "      <th>movieId</th>\n",
       "      <th>released</th>\n",
       "      <th>title</th>\n",
       "      <th>actors</th>\n",
       "      <th>director</th>\n",
       "      <th>genres</th>\n",
       "      <th>imdbRating</th>\n",
       "      <th>similar_movie</th>\n",
       "      <th>tagline</th>\n",
       "      <th>location</th>\n",
       "    </tr>\n",
       "  </thead>\n",
       "  <tbody>\n",
       "    <tr>\n",
       "      <th>0</th>\n",
       "      <td>1</td>\n",
       "      <td>1995-11-22</td>\n",
       "      <td>Toy Story</td>\n",
       "      <td>Jim Varney|Tim Allen|Tom Hanks|Don Rickles</td>\n",
       "      <td>John Lasseter</td>\n",
       "      <td>Adventure|Animation|Children|Comedy|Fantasy</td>\n",
       "      <td>8.3</td>\n",
       "      <td>Finding Nemo</td>\n",
       "      <td>The adventure takes off!</td>\n",
       "      <td>United States</td>\n",
       "    </tr>\n",
       "    <tr>\n",
       "      <th>1</th>\n",
       "      <td>2</td>\n",
       "      <td>1995-12-15</td>\n",
       "      <td>Jumanji</td>\n",
       "      <td>Robin Williams|Bradley Pierce|Kirsten Dunst|Jo...</td>\n",
       "      <td>Joe Johnston</td>\n",
       "      <td>Adventure|Children|Fantasy</td>\n",
       "      <td>6.9</td>\n",
       "      <td>Jumanji: Welcome to the Jungle</td>\n",
       "      <td>Roll the dice and unleash the excitement!</td>\n",
       "      <td>United States</td>\n",
       "    </tr>\n",
       "    <tr>\n",
       "      <th>2</th>\n",
       "      <td>3</td>\n",
       "      <td>1995-12-22</td>\n",
       "      <td>Grumpier Old Men</td>\n",
       "      <td>Walter Matthau|Ann-Margret|Jack Lemmon|Sophia ...</td>\n",
       "      <td>Howard Deutch</td>\n",
       "      <td>Comedy|Romance</td>\n",
       "      <td>6.6</td>\n",
       "      <td>The Bucket List</td>\n",
       "      <td>Still Yelling. Still Fighting. Still Ready for...</td>\n",
       "      <td>United States</td>\n",
       "    </tr>\n",
       "  </tbody>\n",
       "</table>\n",
       "</div>"
      ],
      "text/plain": [
       "   movieId   released             title  \\\n",
       "0        1 1995-11-22         Toy Story   \n",
       "1        2 1995-12-15           Jumanji   \n",
       "2        3 1995-12-22  Grumpier Old Men   \n",
       "\n",
       "                                              actors       director  \\\n",
       "0         Jim Varney|Tim Allen|Tom Hanks|Don Rickles  John Lasseter   \n",
       "1  Robin Williams|Bradley Pierce|Kirsten Dunst|Jo...   Joe Johnston   \n",
       "2  Walter Matthau|Ann-Margret|Jack Lemmon|Sophia ...  Howard Deutch   \n",
       "\n",
       "                                        genres  imdbRating  \\\n",
       "0  Adventure|Animation|Children|Comedy|Fantasy         8.3   \n",
       "1                   Adventure|Children|Fantasy         6.9   \n",
       "2                               Comedy|Romance         6.6   \n",
       "\n",
       "                    similar_movie  \\\n",
       "0                    Finding Nemo   \n",
       "1  Jumanji: Welcome to the Jungle   \n",
       "2                 The Bucket List   \n",
       "\n",
       "                                             tagline       location  \n",
       "0                           The adventure takes off!  United States  \n",
       "1          Roll the dice and unleash the excitement!  United States  \n",
       "2  Still Yelling. Still Fighting. Still Ready for...  United States  "
      ]
     },
     "execution_count": 3,
     "metadata": {},
     "output_type": "execute_result"
    }
   ],
   "source": [
    "df.head(3)"
   ]
  },
  {
   "cell_type": "code",
   "execution_count": 13,
   "metadata": {},
   "outputs": [
    {
     "data": {
      "text/plain": [
       "array(['Sudden Death', 'Nixon'], dtype=object)"
      ]
     },
     "execution_count": 13,
     "metadata": {},
     "output_type": "execute_result"
    }
   ],
   "source": [
    "# \"What movies did Powers Boothe act in?\"\n",
    "df[df[\"actors\"].str.contains(\"Powers Boothe\", case=False)][\"title\"].values"
   ]
  },
  {
   "cell_type": "code",
   "execution_count": 10,
   "metadata": {},
   "outputs": [
    {
     "data": {
      "text/plain": [
       "'Robert De Niro|Joe Pesci|Sharon Stone|James Woods'"
      ]
     },
     "execution_count": 10,
     "metadata": {},
     "output_type": "execute_result"
    }
   ],
   "source": [
    "# \"What was the cast of the Casino?\"\n",
    "df[df[\"title\"]==\"Casino\"][\"actors\"].values[0]"
   ]
  },
  {
   "cell_type": "code",
   "execution_count": 11,
   "metadata": {},
   "outputs": [
    {
     "data": {
      "text/plain": [
       "array(['Grumpier Old Men'], dtype=object)"
      ]
     },
     "execution_count": 11,
     "metadata": {},
     "output_type": "execute_result"
    }
   ],
   "source": [
    "# \"What movies are about love?\"\n",
    "df[df[\"tagline\"].str.contains(\"love\", case=False)][\"title\"].values"
   ]
  },
  {
   "cell_type": "code",
   "execution_count": 12,
   "metadata": {},
   "outputs": [
    {
     "data": {
      "text/plain": [
       "array(['Toy Story', 'Cutthroat Island', 'Ace Ventura: When Nature Calls'],\n",
       "      dtype=object)"
      ]
     },
     "execution_count": 12,
     "metadata": {},
     "output_type": "execute_result"
    }
   ],
   "source": [
    "# \"What movies are about addventure?\"\n",
    "df[df[\"tagline\"].str.contains(\"adventure\", case=False)][\"title\"].values"
   ]
  },
  {
   "cell_type": "code",
   "execution_count": 18,
   "metadata": {},
   "outputs": [
    {
     "name": "stdout",
     "output_type": "stream",
     "text": [
      "Genre Counts for the year 1995:\n",
      "Comedy       10\n",
      "Adventure     6\n",
      "Romance       5\n",
      "Action        5\n",
      "Children      4\n",
      "Drama         4\n",
      "Crime         3\n",
      "Thriller      3\n",
      "Animation     2\n",
      "Fantasy       2\n",
      "Horror        1\n",
      "dtype: int64\n"
     ]
    }
   ],
   "source": [
    "# moderate_question = \"What are the most common genres for movies released in 1995?\"\n",
    "filtered_df = df[df['released'].dt.year == 1995]\n",
    "genres_df = filtered_df['genres'].str.split('|', expand=True).stack().reset_index(level=1, drop=True)\n",
    "genre_counts = genres_df.value_counts()\n",
    "print(\"Genre Counts for the year 1995:\")\n",
    "print(genre_counts)"
   ]
  },
  {
   "cell_type": "code",
   "execution_count": 19,
   "metadata": {},
   "outputs": [
    {
     "data": {
      "text/html": [
       "<div>\n",
       "<style scoped>\n",
       "    .dataframe tbody tr th:only-of-type {\n",
       "        vertical-align: middle;\n",
       "    }\n",
       "\n",
       "    .dataframe tbody tr th {\n",
       "        vertical-align: top;\n",
       "    }\n",
       "\n",
       "    .dataframe thead th {\n",
       "        text-align: right;\n",
       "    }\n",
       "</style>\n",
       "<table border=\"1\" class=\"dataframe\">\n",
       "  <thead>\n",
       "    <tr style=\"text-align: right;\">\n",
       "      <th></th>\n",
       "      <th>title</th>\n",
       "      <th>similar_movie</th>\n",
       "    </tr>\n",
       "  </thead>\n",
       "  <tbody>\n",
       "    <tr>\n",
       "      <th>0</th>\n",
       "      <td>Toy Story</td>\n",
       "      <td>Finding Nemo</td>\n",
       "    </tr>\n",
       "  </tbody>\n",
       "</table>\n",
       "</div>"
      ],
      "text/plain": [
       "       title similar_movie\n",
       "0  Toy Story  Finding Nemo"
      ]
     },
     "metadata": {},
     "output_type": "display_data"
    }
   ],
   "source": [
    "# \"What are the similar movies to the ones that Tom Hanks acted in?\"\n",
    "df_tom_hanks = df[df['actors'].str.contains('tom hanks', case=False)]\n",
    "display(df_tom_hanks[[\"title\", \"similar_movie\"]])"
   ]
  },
  {
   "cell_type": "code",
   "execution_count": 20,
   "metadata": {},
   "outputs": [
    {
     "data": {
      "text/html": [
       "<div>\n",
       "<style scoped>\n",
       "    .dataframe tbody tr th:only-of-type {\n",
       "        vertical-align: middle;\n",
       "    }\n",
       "\n",
       "    .dataframe tbody tr th {\n",
       "        vertical-align: top;\n",
       "    }\n",
       "\n",
       "    .dataframe thead th {\n",
       "        text-align: right;\n",
       "    }\n",
       "</style>\n",
       "<table border=\"1\" class=\"dataframe\">\n",
       "  <thead>\n",
       "    <tr style=\"text-align: right;\">\n",
       "      <th></th>\n",
       "      <th>movieId</th>\n",
       "      <th>released</th>\n",
       "      <th>title</th>\n",
       "      <th>actors</th>\n",
       "      <th>director</th>\n",
       "      <th>genres</th>\n",
       "      <th>imdbRating</th>\n",
       "      <th>similar_movie</th>\n",
       "      <th>tagline</th>\n",
       "      <th>location</th>\n",
       "    </tr>\n",
       "  </thead>\n",
       "  <tbody>\n",
       "    <tr>\n",
       "      <th>5</th>\n",
       "      <td>6</td>\n",
       "      <td>1995-12-15</td>\n",
       "      <td>Heat</td>\n",
       "      <td>Al Pacino|Robert De Niro|Val Kilmer|Jon Voight</td>\n",
       "      <td>Michael Mann</td>\n",
       "      <td>Action|Crime|Thriller</td>\n",
       "      <td>8.2</td>\n",
       "      <td>The Departed</td>\n",
       "      <td>A Los Angeles crime saga</td>\n",
       "      <td>United States</td>\n",
       "    </tr>\n",
       "    <tr>\n",
       "      <th>8</th>\n",
       "      <td>9</td>\n",
       "      <td>1995-12-22</td>\n",
       "      <td>Sudden Death</td>\n",
       "      <td>Jean-Claude Van Damme|Powers Boothe|Raymond J....</td>\n",
       "      <td>Peter Hyams</td>\n",
       "      <td>Action</td>\n",
       "      <td>5.7</td>\n",
       "      <td>Die Hard</td>\n",
       "      <td>Terror goes into overtime.</td>\n",
       "      <td>United States</td>\n",
       "    </tr>\n",
       "    <tr>\n",
       "      <th>19</th>\n",
       "      <td>20</td>\n",
       "      <td>1995-11-22</td>\n",
       "      <td>Money Train</td>\n",
       "      <td>Wesley Snipes|Robert Blake|Woody Harrelson|Jen...</td>\n",
       "      <td>Joseph Ruben</td>\n",
       "      <td>Crime|Comedy|Thriller|Drama|Action</td>\n",
       "      <td>5.6</td>\n",
       "      <td>Speed</td>\n",
       "      <td>Get on, or GET OUT THE WAY!</td>\n",
       "      <td>United States</td>\n",
       "    </tr>\n",
       "  </tbody>\n",
       "</table>\n",
       "</div>"
      ],
      "text/plain": [
       "    movieId   released         title  \\\n",
       "5         6 1995-12-15          Heat   \n",
       "8         9 1995-12-22  Sudden Death   \n",
       "19       20 1995-11-22   Money Train   \n",
       "\n",
       "                                               actors      director  \\\n",
       "5      Al Pacino|Robert De Niro|Val Kilmer|Jon Voight  Michael Mann   \n",
       "8   Jean-Claude Van Damme|Powers Boothe|Raymond J....   Peter Hyams   \n",
       "19  Wesley Snipes|Robert Blake|Woody Harrelson|Jen...  Joseph Ruben   \n",
       "\n",
       "                                genres  imdbRating similar_movie  \\\n",
       "5                Action|Crime|Thriller         8.2  The Departed   \n",
       "8                               Action         5.7      Die Hard   \n",
       "19  Crime|Comedy|Thriller|Drama|Action         5.6         Speed   \n",
       "\n",
       "                        tagline       location  \n",
       "5      A Los Angeles crime saga  United States  \n",
       "8    Terror goes into overtime.  United States  \n",
       "19  Get on, or GET OUT THE WAY!  United States  "
      ]
     },
     "metadata": {},
     "output_type": "display_data"
    }
   ],
   "source": [
    "# From the movies that took place in United States, how many had the action genre?\n",
    "filtered_df = df[df['location']==\"United States\"]\n",
    "display(filtered_df[filtered_df['genres'].str.contains('action', case=False)])"
   ]
  }
 ],
 "metadata": {
  "kernelspec": {
   "display_name": "kg-env",
   "language": "python",
   "name": "python3"
  },
  "language_info": {
   "codemirror_mode": {
    "name": "ipython",
    "version": 3
   },
   "file_extension": ".py",
   "mimetype": "text/x-python",
   "name": "python",
   "nbconvert_exporter": "python",
   "pygments_lexer": "ipython3",
   "version": "3.11.9"
  }
 },
 "nbformat": 4,
 "nbformat_minor": 2
}
